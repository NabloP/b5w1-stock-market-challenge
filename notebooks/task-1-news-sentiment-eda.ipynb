{
 "cells": [
  {
   "cell_type": "markdown",
   "id": "322ffa9d",
   "metadata": {},
   "source": [
    "# 🗞️ Task 1 – News Sentiment EDA  \n",
    "📘 Version: 2025-05-29\n",
    "\n",
    "Exploratory Data Analysis (EDA) of financial news headlines to extract publishing trends, text characteristics, and early sentiment signals for stock prediction modeling.\n",
    "\n",
    "### This notebook covers:\n",
    "- Headline length and word stats\n",
    "- Publisher activity and domain extraction\n",
    "- Time-based publishing patterns\n",
    "- Early keyword/sentiment cues\n",
    "- Cleaned export for sentiment modeling\n"
   ]
  },
  {
   "cell_type": "code",
   "execution_count": 1,
   "id": "995fe520",
   "metadata": {},
   "outputs": [
    {
     "name": "stdout",
     "output_type": "stream",
     "text": [
      "📂 Working directory is now: c:\\Users\\admin\\Documents\\GIT Repositories\\b5w1-stock-market-challenge\n",
      "📄 File found data/raw_analyst_ratings.csv\n"
     ]
    }
   ],
   "source": [
    "# 🛠 Ensure notebook runs from project root if launched from /notebooks/\n",
    "import os\n",
    "if os.path.basename(os.getcwd()) == \"notebooks\":\n",
    "    os.chdir(\"..\")\n",
    "print(\"📂 Working directory is now:\", os.getcwd())\n",
    "\n",
    "expected_file = \"data/raw_analyst_ratings.csv\"  # Replace with actual path once confirmed\n",
    "print(\"📄 File found\" if os.path.exists(expected_file) else \"🚫 File NOT found!\", expected_file)\n"
   ]
  },
  {
   "cell_type": "code",
   "execution_count": 2,
   "id": "7cf5a377",
   "metadata": {},
   "outputs": [
    {
     "name": "stderr",
     "output_type": "stream",
     "text": [
      "[nltk_data] Downloading package punkt to\n",
      "[nltk_data]     C:\\Users\\admin\\AppData\\Roaming\\nltk_data...\n",
      "[nltk_data]   Package punkt is already up-to-date!\n",
      "[nltk_data] Downloading package stopwords to\n",
      "[nltk_data]     C:\\Users\\admin\\AppData\\Roaming\\nltk_data...\n",
      "[nltk_data]   Package stopwords is already up-to-date!\n"
     ]
    },
    {
     "data": {
      "text/plain": [
       "True"
      ]
     },
     "execution_count": 2,
     "metadata": {},
     "output_type": "execute_result"
    }
   ],
   "source": [
    "# ------------------------------------------------------------------------------\n",
    "# 📦 Core Libraries\n",
    "# ------------------------------------------------------------------------------\n",
    "import os\n",
    "import sys\n",
    "import pandas as pd\n",
    "import numpy as np\n",
    "import matplotlib.pyplot as plt\n",
    "import seaborn as sns\n",
    "\n",
    "# ------------------------------------------------------------------------------\n",
    "# 🧠 NLP & Text Processing\n",
    "# ------------------------------------------------------------------------------\n",
    "import nltk\n",
    "from textblob import TextBlob\n",
    "from nltk.corpus import stopwords\n",
    "from nltk.tokenize import word_tokenize\n",
    "\n",
    "# ------------------------------------------------------------------------------\n",
    "# 🔧 Display & Config\n",
    "# ------------------------------------------------------------------------------\n",
    "from IPython.display import display\n",
    "\n",
    "# ------------------------------------------------------------------------------\n",
    "# ⚙️ Optional: Download NLTK resources if running for first time\n",
    "# ------------------------------------------------------------------------------\n",
    "nltk.download(\"punkt\")\n",
    "nltk.download(\"stopwords\")\n"
   ]
  },
  {
   "cell_type": "markdown",
   "id": "a94d6f06",
   "metadata": {},
   "source": [
    "## 📥 Load Financial News Dataset\n",
    "\n",
    "This step initializes the core dataset used throughout the EDA pipeline:\n",
    "\n",
    "- Loads `raw_analyst_ratings.csv` from the `data/` directory.\n",
    "- Automatically parses the `date` column (UTC) into a datetime format.\n",
    "- Provides a clean wrapper around `pandas.read_csv()` via a modular `NewsDataLoader` class.\n",
    "- Includes verbose output to verify encoding, shape, and column schema.\n",
    "\n",
    "This ensures a robust and reproducible starting point for downstream feature engineering and sentiment modeling.\n"
   ]
  },
  {
   "cell_type": "code",
   "execution_count": 3,
   "id": "bd10887e",
   "metadata": {},
   "outputs": [
    {
     "name": "stdout",
     "output_type": "stream",
     "text": [
      "\n",
      "📄 File loaded: data/raw_analyst_ratings.csv\n",
      "📦 Encoding used: utf-8\n",
      "🔢 Rows: 1,407,328 | Columns: 6\n",
      "🧪 Columns: Unnamed: 0, headline, url, publisher, date, stock\n",
      "\n"
     ]
    }
   ],
   "source": [
    "# ------------------------------------------------------------------------------\n",
    "# 📥 Load Financial News Dataset\n",
    "# ------------------------------------------------------------------------------\n",
    "\n",
    "from src.news_loader import NewsDataLoader\n",
    "\n",
    "# Define the dataset path (already confirmed to exist in repo)\n",
    "DATA_PATH = \"data/raw_analyst_ratings.csv\"\n",
    "\n",
    "# Initialize loader (auto-parses 'date' column and prints summary if verbose=True)\n",
    "try:\n",
    "    loader = NewsDataLoader(path=DATA_PATH)\n",
    "    df = loader.load()\n",
    "except Exception as e:\n",
    "    print(f\"❌ Failed to load dataset: {e}\")\n",
    "    df = None  # gracefully degrade for further diagnosis\n"
   ]
  },
  {
   "cell_type": "markdown",
   "id": "fb3d9ecb",
   "metadata": {},
   "source": [
    "## ✅ Initial Sanity Checks – Structure, Missingness, Duplicates\n",
    "\n",
    "Before diving into analysis, we run a quick diagnostic to verify data health:\n",
    "\n",
    "- Preview the top 3 rows for structural validation.\n",
    "- Print full column data types to confirm schema expectations.\n",
    "- Check for missing values across all columns.\n",
    "- Identify and count any fully duplicated rows.\n",
    "\n",
    "These checks help detect formatting issues or corrupt entries early, ensuring downstream feature engineering operates on clean and consistent data.\n"
   ]
  },
  {
   "cell_type": "code",
   "execution_count": 4,
   "id": "f0707f0c",
   "metadata": {},
   "outputs": [
    {
     "data": {
      "application/vnd.microsoft.datawrangler.viewer.v0+json": {
       "columns": [
        {
         "name": "index",
         "rawType": "int64",
         "type": "integer"
        },
        {
         "name": "Unnamed: 0",
         "rawType": "int64",
         "type": "integer"
        },
        {
         "name": "headline",
         "rawType": "object",
         "type": "string"
        },
        {
         "name": "url",
         "rawType": "object",
         "type": "string"
        },
        {
         "name": "publisher",
         "rawType": "object",
         "type": "string"
        },
        {
         "name": "date",
         "rawType": "object",
         "type": "string"
        },
        {
         "name": "stock",
         "rawType": "object",
         "type": "string"
        }
       ],
       "ref": "d47dc232-61bb-46be-b40a-c1ca74d11563",
       "rows": [
        [
         "0",
         "0",
         "Stocks That Hit 52-Week Highs On Friday",
         "https://www.benzinga.com/news/20/06/16190091/stocks-that-hit-52-week-highs-on-friday",
         "Benzinga Insights",
         "2020-06-05 10:30:54-04:00",
         "A"
        ],
        [
         "1",
         "1",
         "Stocks That Hit 52-Week Highs On Wednesday",
         "https://www.benzinga.com/news/20/06/16170189/stocks-that-hit-52-week-highs-on-wednesday",
         "Benzinga Insights",
         "2020-06-03 10:45:20-04:00",
         "A"
        ],
        [
         "2",
         "2",
         "71 Biggest Movers From Friday",
         "https://www.benzinga.com/news/20/05/16103463/71-biggest-movers-from-friday",
         "Lisa Levin",
         "2020-05-26 04:30:07-04:00",
         "A"
        ]
       ],
       "shape": {
        "columns": 6,
        "rows": 3
       }
      },
      "text/html": [
       "<div>\n",
       "<style scoped>\n",
       "    .dataframe tbody tr th:only-of-type {\n",
       "        vertical-align: middle;\n",
       "    }\n",
       "\n",
       "    .dataframe tbody tr th {\n",
       "        vertical-align: top;\n",
       "    }\n",
       "\n",
       "    .dataframe thead th {\n",
       "        text-align: right;\n",
       "    }\n",
       "</style>\n",
       "<table border=\"1\" class=\"dataframe\">\n",
       "  <thead>\n",
       "    <tr style=\"text-align: right;\">\n",
       "      <th></th>\n",
       "      <th>Unnamed: 0</th>\n",
       "      <th>headline</th>\n",
       "      <th>url</th>\n",
       "      <th>publisher</th>\n",
       "      <th>date</th>\n",
       "      <th>stock</th>\n",
       "    </tr>\n",
       "  </thead>\n",
       "  <tbody>\n",
       "    <tr>\n",
       "      <th>0</th>\n",
       "      <td>0</td>\n",
       "      <td>Stocks That Hit 52-Week Highs On Friday</td>\n",
       "      <td>https://www.benzinga.com/news/20/06/16190091/s...</td>\n",
       "      <td>Benzinga Insights</td>\n",
       "      <td>2020-06-05 10:30:54-04:00</td>\n",
       "      <td>A</td>\n",
       "    </tr>\n",
       "    <tr>\n",
       "      <th>1</th>\n",
       "      <td>1</td>\n",
       "      <td>Stocks That Hit 52-Week Highs On Wednesday</td>\n",
       "      <td>https://www.benzinga.com/news/20/06/16170189/s...</td>\n",
       "      <td>Benzinga Insights</td>\n",
       "      <td>2020-06-03 10:45:20-04:00</td>\n",
       "      <td>A</td>\n",
       "    </tr>\n",
       "    <tr>\n",
       "      <th>2</th>\n",
       "      <td>2</td>\n",
       "      <td>71 Biggest Movers From Friday</td>\n",
       "      <td>https://www.benzinga.com/news/20/05/16103463/7...</td>\n",
       "      <td>Lisa Levin</td>\n",
       "      <td>2020-05-26 04:30:07-04:00</td>\n",
       "      <td>A</td>\n",
       "    </tr>\n",
       "  </tbody>\n",
       "</table>\n",
       "</div>"
      ],
      "text/plain": [
       "   Unnamed: 0                                    headline  \\\n",
       "0           0     Stocks That Hit 52-Week Highs On Friday   \n",
       "1           1  Stocks That Hit 52-Week Highs On Wednesday   \n",
       "2           2               71 Biggest Movers From Friday   \n",
       "\n",
       "                                                 url          publisher  \\\n",
       "0  https://www.benzinga.com/news/20/06/16190091/s...  Benzinga Insights   \n",
       "1  https://www.benzinga.com/news/20/06/16170189/s...  Benzinga Insights   \n",
       "2  https://www.benzinga.com/news/20/05/16103463/7...         Lisa Levin   \n",
       "\n",
       "                        date stock  \n",
       "0  2020-06-05 10:30:54-04:00     A  \n",
       "1  2020-06-03 10:45:20-04:00     A  \n",
       "2  2020-05-26 04:30:07-04:00     A  "
      ]
     },
     "metadata": {},
     "output_type": "display_data"
    },
    {
     "name": "stdout",
     "output_type": "stream",
     "text": [
      "🧬 Column Data Types:\n",
      "Unnamed: 0     int64\n",
      "headline      object\n",
      "url           object\n",
      "publisher     object\n",
      "date          object\n",
      "stock         object\n",
      "dtype: object\n",
      "\n",
      "🔍 Missing Value Summary:\n",
      "✅ No missing values detected.\n",
      "✅ No duplicate rows found.\n"
     ]
    }
   ],
   "source": [
    "# ------------------------------------------------------------------------------\n",
    "# ✅ Initial Sanity Check – Columns, Types, and Nulls\n",
    "# ------------------------------------------------------------------------------\n",
    "\n",
    "if df is not None:\n",
    "    # Show a snapshot of the dataset\n",
    "    display(df.head(3))\n",
    "\n",
    "    # Column data types\n",
    "    print(\"🧬 Column Data Types:\")\n",
    "    print(df.dtypes)\n",
    "\n",
    "    # Check for missing values in key columns\n",
    "    print(\"\\n🔍 Missing Value Summary:\")\n",
    "    missing = df.isna().sum()\n",
    "    print(missing[missing > 0] if missing.any() else \"✅ No missing values detected.\")\n",
    "\n",
    "    # Check for duplicate rows (safety check for merge logic later)\n",
    "    duplicate_count = df.duplicated().sum()\n",
    "    if duplicate_count > 0:\n",
    "        print(f\"⚠️ Found {duplicate_count:,} duplicate rows.\")\n",
    "    else:\n",
    "        print(\"✅ No duplicate rows found.\")\n",
    "\n",
    "else:\n",
    "    print(\"🚫 Skipping diagnostics – DataFrame not loaded.\")\n"
   ]
  },
  {
   "cell_type": "markdown",
   "id": "b2ddcfd2",
   "metadata": {},
   "source": [
    "## 🧠 Text Feature Extraction – Headline Length & Word Count\n",
    "\n",
    "We extract basic structural features from each news headline to quantify its size and complexity:\n",
    "\n",
    "- `headline_length`: Number of characters in the headline (includes punctuation and spaces).\n",
    "- `word_count`: Total token count using NLTK’s tokenizer (handles punctuation and spacing more robustly than `.split()`).\n",
    "\n",
    "These features provide early insight into headline density and help with both data validation and downstream modeling. They are particularly useful when identifying outliers (e.g., excessively short or clickbait-style headlines).\n"
   ]
  },
  {
   "cell_type": "code",
   "execution_count": 5,
   "id": "950f5819",
   "metadata": {},
   "outputs": [
    {
     "name": "stdout",
     "output_type": "stream",
     "text": [
      "✅ Text features added:\n",
      "📊 Input column: 'headline'\n",
      "🔠 headline_length (chars): {'count': 1407328.0, 'mean': 73.12051490484095, 'std': 40.73530993195065, 'min': 3.0, '25%': 47.0, '50%': 64.0, '75%': 87.0, 'max': 512.0}\n",
      "🗨️ word_count (tokens): {'count': 1407328.0, 'mean': 13.676373240637577, 'std': 8.452906660503414, 'min': 1.0, '25%': 8.0, '50%': 12.0, '75%': 16.0, 'max': 100.0}\n"
     ]
    }
   ],
   "source": [
    "# ------------------------------------------------------------------------------\n",
    "# 🧠 Text Feature Extraction – headline_length + word_count\n",
    "# ------------------------------------------------------------------------------\n",
    "\n",
    "from src.text_features import TextFeatureExtractor\n",
    "\n",
    "# Initialize feature extractor\n",
    "feature_extractor = TextFeatureExtractor(headline_col=\"headline\", verbose=True)\n",
    "\n",
    "# Apply transformation to compute character and word length\n",
    "try:\n",
    "    df = feature_extractor.transform(df)\n",
    "except Exception as e:\n",
    "    print(f\"❌ Failed to compute text features: {e}\")\n"
   ]
  },
  {
   "cell_type": "markdown",
   "id": "ae4f0c2a",
   "metadata": {},
   "source": [
    "## 🧼 Cleaned Text Column\n",
    "\n",
    "This step applies a configurable text cleaning pipeline to remove:\n",
    "- HTML tags (e.g., `<br>`)\n",
    "- Escape characters (`&amp;`)\n",
    "- Punctuation\n",
    "- Stopwords (e.g., \"the\", \"and\")\n",
    "\n",
    "The result is saved as a new column `cleaned_headline` for further NLP and sentiment modeling."
   ]
  },
  {
   "cell_type": "code",
   "execution_count": null,
   "id": "e5a8d042",
   "metadata": {},
   "outputs": [],
   "source": [
    "\n",
    "# ------------------------------------------------------------------------------\n",
    "# 🧼 Text Cleaning – remove HTML, normalize casing, etc.\n",
    "# ------------------------------------------------------------------------------\n",
    "\n",
    "from src.text_cleaner import TextCleaner\n",
    "\n",
    "# Initialize cleaner with common config\n",
    "cleaner = TextCleaner(\n",
    "    text_col=\"headline\",\n",
    "    output_col=\"cleaned_headline\",\n",
    "    lowercase=True,\n",
    "    remove_html=True,\n",
    "    remove_punctuation=True,\n",
    "    remove_stopwords=True,\n",
    "    verbose=True,\n",
    ")\n",
    "\n",
    "# Apply transformation\n",
    "try:\n",
    "    df = cleaner.transform(df)\n",
    "except Exception as e:\n",
    "    print(f\"❌ Cleaning failed: {e}\")\n"
   ]
  },
  {
   "cell_type": "markdown",
   "id": "0121a02e",
   "metadata": {},
   "source": [
    "## 🔍 Bullish / Bearish Keyword Matching\n",
    "\n",
    "Using a curated dictionary of bullish and bearish financial phrases, this step tags headlines with:\n",
    "- `bullish_flag` → if the headline suggests upward market sentiment\n",
    "- `bearish_flag` → if the headline suggests negative or downward sentiment\n",
    "\n",
    "This provides an early directional signal before applying more complex sentiment scoring.\n"
   ]
  },
  {
   "cell_type": "code",
   "execution_count": null,
   "id": "2ce1bbae",
   "metadata": {},
   "outputs": [
    {
     "name": "stdout",
     "output_type": "stream",
     "text": [
      "✅ 'bullish_flag' added: 83,756 matches out of 1,407,328 rows\n",
      "✅ 'bearish_flag' added: 71,279 matches out of 1,407,328 rows\n"
     ]
    }
   ],
   "source": [
    "# ------------------------------------------------------------------------------\n",
    "# 🔍 Bullish/Bearish Keyword Flags – early sentiment indicators\n",
    "# ------------------------------------------------------------------------------\n",
    "\n",
    "from src.text_keywords import flag_bullish, flag_bearish\n",
    "\n",
    "# Apply bullish and bearish keyword matching\n",
    "try:\n",
    "    df = flag_bullish(df, column=\"cleaned_headline\")\n",
    "    df = flag_bearish(df, column=\"cleaned_headline\")\n",
    "except Exception as e:\n",
    "    print(f\"❌ Keyword flagging failed: {e}\")\n"
   ]
  },
  {
   "cell_type": "markdown",
   "id": "36a12d2e",
   "metadata": {},
   "source": [
    "## 📊 Headline Length & Word Count Distributions\n",
    "\n",
    "This visualization shows the structural distribution of headlines:\n",
    "- **Character Length:** Total characters per headline (`headline_length`)\n",
    "- **Word Count:** Number of tokens per headline (`word_count`)\n",
    "\n",
    "These insights help validate text normalization and highlight outliers (e.g., abnormally short or long headlines).\n"
   ]
  },
  {
   "cell_type": "code",
   "execution_count": null,
   "id": "8b088f71",
   "metadata": {},
   "outputs": [
    {
     "name": "stdout",
     "output_type": "stream",
     "text": [
      "✅ Columns validated: headline_length, word_count\n",
      "🎨 Style applied: seaborn-v0_8-muted\n"
     ]
    },
    {
     "name": "stderr",
     "output_type": "stream",
     "text": [
      "c:\\Users\\admin\\Documents\\GIT Repositories\\b5w1-stock-market-challenge\\src\\text_distributions.py:150: UserWarning: Glyph 128221 (\\N{MEMO}) missing from font(s) DejaVu Sans.\n",
      "  plt.tight_layout()  # Adjust layout to prevent overlap\n",
      "c:\\Users\\admin\\Documents\\GIT Repositories\\b5w1-stock-market-challenge\\stock-market-challenge\\Lib\\site-packages\\IPython\\core\\pylabtools.py:170: UserWarning: Glyph 128221 (\\N{MEMO}) missing from font(s) DejaVu Sans.\n",
      "  fig.canvas.print_figure(bytes_io, **kw)\n"
     ]
    },
    {
     "data": {
      "image/png": "[encoded data removed]",
      "text/plain": [
       "<Figure size 1200x400 with 2 Axes>"
      ]
     },
     "metadata": {},
     "output_type": "display_data"
    },
    {
     "name": "stdout",
     "output_type": "stream",
     "text": [
      "📈 Distribution plots rendered successfully.\n"
     ]
    }
   ],
   "source": [
    "# ------------------------------------------------------------------------------  \n",
    "# 📊 Visualize Headline Text Distributions – Length & Word Count  \n",
    "# ------------------------------------------------------------------------------\n",
    "\n",
    "from src.text_distributions import TextDistributionPlotter\n",
    "\n",
    "# Initialize the plotter\n",
    "plotter = TextDistributionPlotter(\n",
    "    length_col=\"headline_length\",\n",
    "    word_col=\"word_count\",\n",
    "    bins=40,\n",
    "    title_prefix=\"📝\",\n",
    "    style=\"seaborn-v0_8-muted\",\n",
    "    use_latex_style=False,\n",
    "    verbose=True,\n",
    ")\n",
    "\n",
    "# Safely plot distribution histograms\n",
    "try:\n",
    "    plotter.plot(df, show=True)\n",
    "except Exception as e:\n",
    "    print(f\"❌ Failed to render text distribution plots: {e}\")\n"
   ]
  },
  {
   "cell_type": "markdown",
   "id": "7e6caea7",
   "metadata": {},
   "source": [
    "## 🏢 Publisher Frequency Analysis\n",
    "\n",
    "Analyzes the number of headlines published by each media outlet.  \n",
    "Highlights the most prolific sources in the dataset and helps assess coverage concentration or potential bias."
   ]
  },
  {
   "cell_type": "code",
   "execution_count": null,
   "id": "ebf9c094",
   "metadata": {},
   "outputs": [
    {
     "name": "stdout",
     "output_type": "stream",
     "text": [
      "✅ Found 1034 unique publishers.\n",
      "📈 Top 10 publishers by article count:\n"
     ]
    },
    {
     "data": {
      "application/vnd.microsoft.datawrangler.viewer.v0+json": {
       "columns": [
        {
         "name": "index",
         "rawType": "int64",
         "type": "integer"
        },
        {
         "name": "publisher",
         "rawType": "object",
         "type": "string"
        },
        {
         "name": "article_count",
         "rawType": "int64",
         "type": "integer"
        }
       ],
       "ref": "bde07c80-8b44-4710-9aeb-47168792bbf5",
       "rows": [
        [
         "0",
         "Paul Quintaro",
         "228373"
        ],
        [
         "1",
         "Lisa Levin",
         "186979"
        ],
        [
         "2",
         "Benzinga Newsdesk",
         "150484"
        ],
        [
         "3",
         "Charles Gross",
         "96732"
        ],
        [
         "4",
         "Monica Gerson",
         "82380"
        ],
        [
         "5",
         "Eddie Staley",
         "57254"
        ],
        [
         "6",
         "Hal Lindon",
         "49047"
        ],
        [
         "7",
         "ETF Professor",
         "28489"
        ],
        [
         "8",
         "Juan Lopez",
         "28438"
        ],
        [
         "9",
         "Benzinga Staff",
         "28114"
        ]
       ],
       "shape": {
        "columns": 2,
        "rows": 10
       }
      },
      "text/html": [
       "<div>\n",
       "<style scoped>\n",
       "    .dataframe tbody tr th:only-of-type {\n",
       "        vertical-align: middle;\n",
       "    }\n",
       "\n",
       "    .dataframe tbody tr th {\n",
       "        vertical-align: top;\n",
       "    }\n",
       "\n",
       "    .dataframe thead th {\n",
       "        text-align: right;\n",
       "    }\n",
       "</style>\n",
       "<table border=\"1\" class=\"dataframe\">\n",
       "  <thead>\n",
       "    <tr style=\"text-align: right;\">\n",
       "      <th></th>\n",
       "      <th>publisher</th>\n",
       "      <th>article_count</th>\n",
       "    </tr>\n",
       "  </thead>\n",
       "  <tbody>\n",
       "    <tr>\n",
       "      <th>0</th>\n",
       "      <td>Paul Quintaro</td>\n",
       "      <td>228373</td>\n",
       "    </tr>\n",
       "    <tr>\n",
       "      <th>1</th>\n",
       "      <td>Lisa Levin</td>\n",
       "      <td>186979</td>\n",
       "    </tr>\n",
       "    <tr>\n",
       "      <th>2</th>\n",
       "      <td>Benzinga Newsdesk</td>\n",
       "      <td>150484</td>\n",
       "    </tr>\n",
       "    <tr>\n",
       "      <th>3</th>\n",
       "      <td>Charles Gross</td>\n",
       "      <td>96732</td>\n",
       "    </tr>\n",
       "    <tr>\n",
       "      <th>4</th>\n",
       "      <td>Monica Gerson</td>\n",
       "      <td>82380</td>\n",
       "    </tr>\n",
       "    <tr>\n",
       "      <th>5</th>\n",
       "      <td>Eddie Staley</td>\n",
       "      <td>57254</td>\n",
       "    </tr>\n",
       "    <tr>\n",
       "      <th>6</th>\n",
       "      <td>Hal Lindon</td>\n",
       "      <td>49047</td>\n",
       "    </tr>\n",
       "    <tr>\n",
       "      <th>7</th>\n",
       "      <td>ETF Professor</td>\n",
       "      <td>28489</td>\n",
       "    </tr>\n",
       "    <tr>\n",
       "      <th>8</th>\n",
       "      <td>Juan Lopez</td>\n",
       "      <td>28438</td>\n",
       "    </tr>\n",
       "    <tr>\n",
       "      <th>9</th>\n",
       "      <td>Benzinga Staff</td>\n",
       "      <td>28114</td>\n",
       "    </tr>\n",
       "  </tbody>\n",
       "</table>\n",
       "</div>"
      ],
      "text/plain": [
       "           publisher  article_count\n",
       "0      Paul Quintaro         228373\n",
       "1         Lisa Levin         186979\n",
       "2  Benzinga Newsdesk         150484\n",
       "3      Charles Gross          96732\n",
       "4      Monica Gerson          82380\n",
       "5       Eddie Staley          57254\n",
       "6         Hal Lindon          49047\n",
       "7      ETF Professor          28489\n",
       "8         Juan Lopez          28438\n",
       "9     Benzinga Staff          28114"
      ]
     },
     "metadata": {},
     "output_type": "display_data"
    },
    {
     "name": "stderr",
     "output_type": "stream",
     "text": [
      "c:\\Users\\admin\\Documents\\GIT Repositories\\b5w1-stock-market-challenge\\src\\text_publishers.py:116: FutureWarning: \n",
      "\n",
      "Passing `palette` without assigning `hue` is deprecated and will be removed in v0.14.0. Assign the `y` variable to `hue` and set `legend=False` for the same effect.\n",
      "\n",
      "  sns.barplot(\n",
      "c:\\Users\\admin\\Documents\\GIT Repositories\\b5w1-stock-market-challenge\\src\\text_publishers.py:122: UserWarning: Glyph 127970 (\\N{OFFICE BUILDING}) missing from font(s) DejaVu Sans.\n",
      "  plt.tight_layout()\n",
      "c:\\Users\\admin\\Documents\\GIT Repositories\\b5w1-stock-market-challenge\\stock-market-challenge\\Lib\\site-packages\\IPython\\core\\pylabtools.py:170: UserWarning: Glyph 127970 (\\N{OFFICE BUILDING}) missing from font(s) DejaVu Sans.\n",
      "  fig.canvas.print_figure(bytes_io, **kw)\n"
     ]
    },
    {
     "data": {
      "image/png": "[encoded data removed]",
      "text/plain": [
       "<Figure size 1000x500 with 1 Axes>"
      ]
     },
     "metadata": {},
     "output_type": "display_data"
    },
    {
     "name": "stdout",
     "output_type": "stream",
     "text": [
      "📊 Chart rendered for top 10 publishers.\n"
     ]
    }
   ],
   "source": [
    "# ------------------------------------------------------------------------------  \n",
    "# 📰 Publisher Frequency Analysis\n",
    "# ------------------------------------------------------------------------------\n",
    "\n",
    "from src.text_publishers import PublisherAnalyzer  # ✅ correct class name\n",
    "\n",
    "# Initialize analysis object\n",
    "try:\n",
    "    publisher_analyzer = PublisherAnalyzer(\n",
    "        publisher_col=\"publisher\",\n",
    "        verbose=True\n",
    "    )\n",
    "\n",
    "    # Analyze publisher frequency\n",
    "    publisher_freq_df = publisher_analyzer.analyze(df)\n",
    "\n",
    "    # Plot top publishers\n",
    "    publisher_analyzer.plot_top_publishers(top_n=10)\n",
    "\n",
    "except Exception as e:\n",
    "    print(f\"❌ Publisher frequency analysis failed: {e}\")\n"
   ]
  },
  {
   "cell_type": "markdown",
   "id": "a58c6486",
   "metadata": {},
   "source": [
    "## 🌐 Publisher Domain Extraction\n",
    "\n",
    "Extracts and groups publisher URLs or names into standardized domain patterns (e.g., `yahoo.com`).  \n",
    "Useful for identifying bots, conglomerates, and repeated sources behind different brand names.\n"
   ]
  },
  {
   "cell_type": "code",
   "execution_count": null,
   "id": "96f7728b",
   "metadata": {},
   "outputs": [
    {
     "name": "stdout",
     "output_type": "stream",
     "text": [
      "✅ Domain analysis complete on column 'url'\n",
      "🔢 1 unique domains found.\n",
      "📈 Top 10 domains:\n"
     ]
    },
    {
     "data": {
      "application/vnd.microsoft.datawrangler.viewer.v0+json": {
       "columns": [
        {
         "name": "index",
         "rawType": "int64",
         "type": "integer"
        },
        {
         "name": "publisher_domain",
         "rawType": "object",
         "type": "string"
        },
        {
         "name": "article_count",
         "rawType": "int64",
         "type": "integer"
        }
       ],
       "ref": "b386febf-47fc-41c4-9a8d-85122e97eda7",
       "rows": [
        [
         "0",
         "benzinga.com",
         "1407328"
        ]
       ],
       "shape": {
        "columns": 2,
        "rows": 1
       }
      },
      "text/html": [
       "<div>\n",
       "<style scoped>\n",
       "    .dataframe tbody tr th:only-of-type {\n",
       "        vertical-align: middle;\n",
       "    }\n",
       "\n",
       "    .dataframe tbody tr th {\n",
       "        vertical-align: top;\n",
       "    }\n",
       "\n",
       "    .dataframe thead th {\n",
       "        text-align: right;\n",
       "    }\n",
       "</style>\n",
       "<table border=\"1\" class=\"dataframe\">\n",
       "  <thead>\n",
       "    <tr style=\"text-align: right;\">\n",
       "      <th></th>\n",
       "      <th>publisher_domain</th>\n",
       "      <th>article_count</th>\n",
       "    </tr>\n",
       "  </thead>\n",
       "  <tbody>\n",
       "    <tr>\n",
       "      <th>0</th>\n",
       "      <td>benzinga.com</td>\n",
       "      <td>1407328</td>\n",
       "    </tr>\n",
       "  </tbody>\n",
       "</table>\n",
       "</div>"
      ],
      "text/plain": [
       "  publisher_domain  article_count\n",
       "0     benzinga.com        1407328"
      ]
     },
     "metadata": {},
     "output_type": "display_data"
    },
    {
     "name": "stdout",
     "output_type": "stream",
     "text": [
      "📋 Columns in top_data: ['publisher_domain', 'article_count']\n",
      "  publisher_domain  article_count\n",
      "0     benzinga.com        1407328\n"
     ]
    },
    {
     "name": "stderr",
     "output_type": "stream",
     "text": [
      "c:\\Users\\admin\\Documents\\GIT Repositories\\b5w1-stock-market-challenge\\src\\text_publishers_domains.py:176: FutureWarning: \n",
      "\n",
      "Passing `palette` without assigning `hue` is deprecated and will be removed in v0.14.0. Assign the `y` variable to `hue` and set `legend=False` for the same effect.\n",
      "\n",
      "  \n",
      "c:\\Users\\admin\\Documents\\GIT Repositories\\b5w1-stock-market-challenge\\src\\text_publishers_domains.py:182: UserWarning: Glyph 127760 (\\N{GLOBE WITH MERIDIANS}) missing from font(s) DejaVu Sans.\n",
      "  --------\n",
      "c:\\Users\\admin\\Documents\\GIT Repositories\\b5w1-stock-market-challenge\\stock-market-challenge\\Lib\\site-packages\\IPython\\core\\pylabtools.py:170: UserWarning: Glyph 127760 (\\N{GLOBE WITH MERIDIANS}) missing from font(s) DejaVu Sans.\n",
      "  fig.canvas.print_figure(bytes_io, **kw)\n"
     ]
    },
    {
     "data": {
      "image/png": "[encoded data removed]",
      "text/plain": [
       "<Figure size 1000x500 with 1 Axes>"
      ]
     },
     "metadata": {},
     "output_type": "display_data"
    },
    {
     "name": "stdout",
     "output_type": "stream",
     "text": [
      "📊 Rendered bar chart for top 10 domains.\n"
     ]
    }
   ],
   "source": [
    "# ------------------------------------------------------------------------------  \n",
    "# 🌐 Publisher Domain Extraction  \n",
    "# ------------------------------------------------------------------------------\n",
    "\n",
    "from src.text_publishers_domains import PublisherDomainAnalyzer\n",
    "\n",
    "try:\n",
    "    domain_analyzer = PublisherDomainAnalyzer(\n",
    "         publisher_col=\"url\",\n",
    "        domain_col=\"publisher_domain\",\n",
    "        verbose=True\n",
    "    )\n",
    "\n",
    "    # Run analysis and domain extraction\n",
    "    df = domain_analyzer.analyze(df)\n",
    "\n",
    "    # Plot top domains\n",
    "    domain_analyzer.plot_top_domains(top_n=10)\n",
    "\n",
    "except Exception as e:\n",
    "    print(f\"❌ Domain extraction failed: {e}\")\n"
   ]
  },
  {
   "cell_type": "markdown",
   "id": "0b278ac3",
   "metadata": {},
   "source": [
    "## ⏱️ Time Series Analysis of News Volume\n",
    "\n",
    "This section extracts:\n",
    "- **Publication frequency over time** to identify periods of heavy news activity.\n",
    "- **Weekday vs weekend bias** to detect institutional vs retail-driven publishing cycles.\n",
    "- Useful for aligning market reactions and sentiment shifts with news density.\n"
   ]
  },
  {
   "cell_type": "code",
   "execution_count": null,
   "id": "ad78434a",
   "metadata": {},
   "outputs": [],
   "source": [
    "import importlib\n",
    "import src.text_time_series\n",
    "importlib.reload(src.text_time_series)\n",
    "from src.text_time_series import TimeSeriesTextAnalyzer\n"
   ]
  },
  {
   "cell_type": "code",
   "execution_count": null,
   "id": "29431503",
   "metadata": {},
   "outputs": [
    {
     "name": "stdout",
     "output_type": "stream",
     "text": [
      "⚠️ 1351341 rows had unparseable timestamps and will be NaN.\n",
      "✅ Time features added: ['date_only', 'hour', 'day_of_week', 'is_weekend']\n",
      "📅 Unique dates: 2527\n",
      "🕒 Publishing hours: [0.0, 1.0, 2.0, 3.0, 4.0, 5.0, 6.0, 7.0, 8.0, 9.0, 10.0, 11.0, 12.0, 13.0, 14.0, 15.0, 16.0, 17.0, 18.0, 19.0, 20.0, 21.0, 22.0, 23.0]\n"
     ]
    },
    {
     "name": "stderr",
     "output_type": "stream",
     "text": [
      "c:\\Users\\admin\\Documents\\GIT Repositories\\b5w1-stock-market-challenge\\src\\text_time_series.py:169: UserWarning: Glyph 128467 (\\N{SPIRAL CALENDAR PAD}) missing from font(s) DejaVu Sans.\n",
      "  plt.tight_layout()  # Adjust layout to prevent clipping\n",
      "c:\\Users\\admin\\Documents\\GIT Repositories\\b5w1-stock-market-challenge\\stock-market-challenge\\Lib\\site-packages\\IPython\\core\\pylabtools.py:170: UserWarning: Glyph 128467 (\\N{SPIRAL CALENDAR PAD}) missing from font(s) DejaVu Sans.\n",
      "  fig.canvas.print_figure(bytes_io, **kw)\n"
     ]
    },
    {
     "data": {
      "image/png": "[encoded data removed]",
      "text/plain": [
       "<Figure size 1200x400 with 1 Axes>"
      ]
     },
     "metadata": {},
     "output_type": "display_data"
    },
    {
     "name": "stderr",
     "output_type": "stream",
     "text": [
      "c:\\Users\\admin\\Documents\\GIT Repositories\\b5w1-stock-market-challenge\\src\\text_time_series.py:193: UserWarning: Glyph 128338 (\\N{CLOCK FACE THREE OCLOCK}) missing from font(s) DejaVu Sans.\n",
      "  plt.tight_layout()  # Adjust layout to prevent clipping\n",
      "c:\\Users\\admin\\Documents\\GIT Repositories\\b5w1-stock-market-challenge\\stock-market-challenge\\Lib\\site-packages\\IPython\\core\\pylabtools.py:170: UserWarning: Glyph 128338 (\\N{CLOCK FACE THREE OCLOCK}) missing from font(s) DejaVu Sans.\n",
      "  fig.canvas.print_figure(bytes_io, **kw)\n"
     ]
    },
    {
     "data": {
      "image/png": "[encoded data removed]",
      "text/plain": [
       "<Figure size 800x400 with 1 Axes>"
      ]
     },
     "metadata": {},
     "output_type": "display_data"
    },
    {
     "name": "stderr",
     "output_type": "stream",
     "text": [
      "c:\\Users\\admin\\Documents\\GIT Repositories\\b5w1-stock-market-challenge\\src\\text_time_series.py:220: FutureWarning: \n",
      "\n",
      "Passing `palette` without assigning `hue` is deprecated and will be removed in v0.14.0. Assign the `x` variable to `hue` and set `legend=False` for the same effect.\n",
      "\n",
      "  sns.countplot(\n",
      "c:\\Users\\admin\\Documents\\GIT Repositories\\b5w1-stock-market-challenge\\src\\text_time_series.py:226: UserWarning: Glyph 128198 (\\N{TEAR-OFF CALENDAR}) missing from font(s) DejaVu Sans.\n",
      "  plt.tight_layout()  # Adjust layout to prevent clipping\n",
      "c:\\Users\\admin\\Documents\\GIT Repositories\\b5w1-stock-market-challenge\\stock-market-challenge\\Lib\\site-packages\\IPython\\core\\pylabtools.py:170: UserWarning: Glyph 128198 (\\N{TEAR-OFF CALENDAR}) missing from font(s) DejaVu Sans.\n",
      "  fig.canvas.print_figure(bytes_io, **kw)\n"
     ]
    },
    {
     "data": {
      "image/png": "[encoded data removed]",
      "text/plain": [
       "<Figure size 800x400 with 1 Axes>"
      ]
     },
     "metadata": {},
     "output_type": "display_data"
    }
   ],
   "source": [
    "# ------------------------------------------------------------------------------\n",
    "# 🕒 Time Series Analysis – Publishing Frequency and Weekday Patterns\n",
    "# ------------------------------------------------------------------------------\n",
    "\n",
    "from src.text_time_series import TimeSeriesTextAnalyzer\n",
    "\n",
    "try:\n",
    "    # Initialize the analyzer with the date column\n",
    "    time_analyzer = TimeSeriesTextAnalyzer(\n",
    "        date_col=\"date\",  # ISO-formatted UTC date from loader\n",
    "        verbose=True,\n",
    "    )\n",
    "\n",
    "    # Apply time-based feature engineering and visualization\n",
    "    df = time_analyzer.transform(df) # Adds 'day_of_week' and 'hour_of_day'\n",
    "    time_analyzer.plot(df) # Plots publishing frequency by day and hour\n",
    "\n",
    "except Exception as e:\n",
    "    print(f\"❌ Time series analysis failed: {e}\")\n"
   ]
  },
  {
   "cell_type": "code",
   "execution_count": null,
   "id": "7879e35c",
   "metadata": {},
   "outputs": [],
   "source": [
    "df"
   ]
  },
  {
   "cell_type": "markdown",
   "id": "38fedb58",
   "metadata": {},
   "source": []
  }
 ],
 "metadata": {
  "kernelspec": {
   "display_name": "stock-market-challenge",
   "language": "python",
   "name": "python3"
  },
  "language_info": {
   "codemirror_mode": {
    "name": "ipython",
    "version": 3
   },
   "file_extension": ".py",
   "mimetype": "text/x-python",
   "name": "python",
   "nbconvert_exporter": "python",
   "pygments_lexer": "ipython3",
   "version": "3.12.0"
  }
 },
 "nbformat": 4,
 "nbformat_minor": 5
}
