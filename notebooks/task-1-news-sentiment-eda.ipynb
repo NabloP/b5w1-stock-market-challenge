{
 "cells": [
  {
   "cell_type": "markdown",
   "id": "322ffa9d",
   "metadata": {},
   "source": [
    "# 🗞️ Task 1 – News Sentiment EDA  \n",
    "📘 Version: 2025-05-29\n",
    "\n",
    "Exploratory Data Analysis (EDA) of financial news headlines to extract publishing trends, text characteristics, and early sentiment signals for stock prediction modeling.\n",
    "\n",
    "### This notebook covers:\n",
    "- Headline length and word stats\n",
    "- Publisher activity and domain extraction\n",
    "- Time-based publishing patterns\n",
    "- Early keyword/sentiment cues\n",
    "- Cleaned export for sentiment modeling\n"
   ]
  },
  {
   "cell_type": "code",
   "execution_count": 67,
   "id": "995fe520",
   "metadata": {},
   "outputs": [
    {
     "name": "stdout",
     "output_type": "stream",
     "text": [
      "📂 Working directory is now: c:\\Users\\admin\\Documents\\GIT Repositories\\b5w1-stock-market-challenge\n",
      "📄 File found data/raw_analyst_ratings.csv\n"
     ]
    }
   ],
   "source": [
    "# 🛠 Ensure notebook runs from project root if launched from /notebooks/\n",
    "import os\n",
    "if os.path.basename(os.getcwd()) == \"notebooks\":\n",
    "    os.chdir(\"..\")\n",
    "print(\"📂 Working directory is now:\", os.getcwd())\n",
    "\n",
    "expected_file = \"data/raw_analyst_ratings.csv\"  # Replace with actual path once confirmed\n",
    "print(\"📄 File found\" if os.path.exists(expected_file) else \"🚫 File NOT found!\", expected_file)\n"
   ]
  },
  {
   "cell_type": "code",
   "execution_count": 68,
   "id": "7cf5a377",
   "metadata": {},
   "outputs": [
    {
     "name": "stderr",
     "output_type": "stream",
     "text": [
      "[nltk_data] Downloading package punkt to\n",
      "[nltk_data]     C:\\Users\\admin\\AppData\\Roaming\\nltk_data...\n",
      "[nltk_data]   Package punkt is already up-to-date!\n",
      "[nltk_data] Downloading package stopwords to\n",
      "[nltk_data]     C:\\Users\\admin\\AppData\\Roaming\\nltk_data...\n",
      "[nltk_data]   Package stopwords is already up-to-date!\n"
     ]
    },
    {
     "data": {
      "text/plain": [
       "True"
      ]
     },
     "execution_count": 68,
     "metadata": {},
     "output_type": "execute_result"
    }
   ],
   "source": [
    "# ------------------------------------------------------------------------------\n",
    "# 📦 Core Libraries\n",
    "# ------------------------------------------------------------------------------\n",
    "import os\n",
    "import sys\n",
    "import pandas as pd\n",
    "import numpy as np\n",
    "import matplotlib.pyplot as plt\n",
    "import seaborn as sns\n",
    "\n",
    "# ------------------------------------------------------------------------------\n",
    "# 🧠 NLP & Text Processing\n",
    "# ------------------------------------------------------------------------------\n",
    "import nltk\n",
    "from textblob import TextBlob\n",
    "from nltk.corpus import stopwords\n",
    "from nltk.tokenize import word_tokenize\n",
    "\n",
    "# Fuzzy string matching for keyword detection\n",
    "from rapidfuzz import fuzz, process\n",
    "\n",
    "# ------------------------------------------------------------------------------\n",
    "# 🔧 Display & Config\n",
    "# ------------------------------------------------------------------------------\n",
    "from IPython.display import display\n",
    "\n",
    "# ------------------------------------------------------------------------------\n",
    "# ⚙️ Optional: Download NLTK resources if running for first time\n",
    "# ------------------------------------------------------------------------------\n",
    "nltk.download(\"punkt\")\n",
    "nltk.download(\"stopwords\")"
   ]
  },
  {
   "cell_type": "markdown",
   "id": "a94d6f06",
   "metadata": {},
   "source": [
    "## 📥 Load Financial News Dataset\n",
    "\n",
    "This step initializes the core dataset used throughout the EDA pipeline:\n",
    "\n",
    "- Loads `raw_analyst_ratings.csv` from the `data/` directory.\n",
    "- Automatically parses the `date` column (UTC) into a datetime format.\n",
    "- Provides a clean wrapper around `pandas.read_csv()` via a modular `NewsDataLoader` class.\n",
    "- Includes verbose output to verify encoding, shape, and column schema.\n",
    "\n",
    "This ensures a robust and reproducible starting point for downstream feature engineering and sentiment modeling.\n"
   ]
  },
  {
   "cell_type": "code",
   "execution_count": 69,
   "id": "bd10887e",
   "metadata": {},
   "outputs": [
    {
     "name": "stdout",
     "output_type": "stream",
     "text": [
      "\n",
      "📄 File loaded: data/raw_analyst_ratings.csv\n",
      "📦 Encoding used: utf-8\n",
      "🔢 Rows: 1,407,328 | Columns: 6\n",
      "🧪 Columns: Unnamed: 0, headline, url, publisher, date, stock\n",
      "\n"
     ]
    }
   ],
   "source": [
    "# ------------------------------------------------------------------------------\n",
    "# 📥 Load Financial News Dataset\n",
    "# ------------------------------------------------------------------------------\n",
    "\n",
    "from src.news_loader import NewsDataLoader\n",
    "\n",
    "# Define the dataset path (already confirmed to exist in repo)\n",
    "DATA_PATH = \"data/raw_analyst_ratings.csv\"\n",
    "\n",
    "# Initialize loader (auto-parses 'date' column and prints summary if verbose=True)\n",
    "try:\n",
    "    loader = NewsDataLoader(path=DATA_PATH)\n",
    "    df = loader.load()\n",
    "except Exception as e:\n",
    "    print(f\"❌ Failed to load dataset: {e}\")\n",
    "    df = None  # gracefully degrade for further diagnosis\n"
   ]
  },
  {
   "cell_type": "markdown",
   "id": "fb3d9ecb",
   "metadata": {},
   "source": [
    "## ✅ Initial Sanity Checks – Structure, Missingness, Duplicates\n",
    "\n",
    "Before diving into analysis, we run a quick diagnostic to verify data health:\n",
    "\n",
    "- Preview the top 3 rows for structural validation.\n",
    "- Print full column data types to confirm schema expectations.\n",
    "- Check for missing values across all columns.\n",
    "- Identify and count any fully duplicated rows.\n",
    "\n",
    "These checks help detect formatting issues or corrupt entries early, ensuring downstream feature engineering operates on clean and consistent data.\n"
   ]
  },
  {
   "cell_type": "code",
   "execution_count": 70,
   "id": "f0707f0c",
   "metadata": {},
   "outputs": [
    {
     "data": {
      "application/vnd.microsoft.datawrangler.viewer.v0+json": {
       "columns": [
        {
         "name": "index",
         "rawType": "int64",
         "type": "integer"
        },
        {
         "name": "Unnamed: 0",
         "rawType": "int64",
         "type": "integer"
        },
        {
         "name": "headline",
         "rawType": "object",
         "type": "string"
        },
        {
         "name": "url",
         "rawType": "object",
         "type": "string"
        },
        {
         "name": "publisher",
         "rawType": "object",
         "type": "string"
        },
        {
         "name": "date",
         "rawType": "object",
         "type": "string"
        },
        {
         "name": "stock",
         "rawType": "object",
         "type": "string"
        }
       ],
       "ref": "7966a8da-e6ab-44d4-9df9-431338815f05",
       "rows": [
        [
         "0",
         "0",
         "Stocks That Hit 52-Week Highs On Friday",
         "https://www.benzinga.com/news/20/06/16190091/stocks-that-hit-52-week-highs-on-friday",
         "Benzinga Insights",
         "2020-06-05 10:30:54-04:00",
         "A"
        ],
        [
         "1",
         "1",
         "Stocks That Hit 52-Week Highs On Wednesday",
         "https://www.benzinga.com/news/20/06/16170189/stocks-that-hit-52-week-highs-on-wednesday",
         "Benzinga Insights",
         "2020-06-03 10:45:20-04:00",
         "A"
        ],
        [
         "2",
         "2",
         "71 Biggest Movers From Friday",
         "https://www.benzinga.com/news/20/05/16103463/71-biggest-movers-from-friday",
         "Lisa Levin",
         "2020-05-26 04:30:07-04:00",
         "A"
        ]
       ],
       "shape": {
        "columns": 6,
        "rows": 3
       }
      },
      "text/html": [
       "<div>\n",
       "<style scoped>\n",
       "    .dataframe tbody tr th:only-of-type {\n",
       "        vertical-align: middle;\n",
       "    }\n",
       "\n",
       "    .dataframe tbody tr th {\n",
       "        vertical-align: top;\n",
       "    }\n",
       "\n",
       "    .dataframe thead th {\n",
       "        text-align: right;\n",
       "    }\n",
       "</style>\n",
       "<table border=\"1\" class=\"dataframe\">\n",
       "  <thead>\n",
       "    <tr style=\"text-align: right;\">\n",
       "      <th></th>\n",
       "      <th>Unnamed: 0</th>\n",
       "      <th>headline</th>\n",
       "      <th>url</th>\n",
       "      <th>publisher</th>\n",
       "      <th>date</th>\n",
       "      <th>stock</th>\n",
       "    </tr>\n",
       "  </thead>\n",
       "  <tbody>\n",
       "    <tr>\n",
       "      <th>0</th>\n",
       "      <td>0</td>\n",
       "      <td>Stocks That Hit 52-Week Highs On Friday</td>\n",
       "      <td>https://www.benzinga.com/news/20/06/16190091/s...</td>\n",
       "      <td>Benzinga Insights</td>\n",
       "      <td>2020-06-05 10:30:54-04:00</td>\n",
       "      <td>A</td>\n",
       "    </tr>\n",
       "    <tr>\n",
       "      <th>1</th>\n",
       "      <td>1</td>\n",
       "      <td>Stocks That Hit 52-Week Highs On Wednesday</td>\n",
       "      <td>https://www.benzinga.com/news/20/06/16170189/s...</td>\n",
       "      <td>Benzinga Insights</td>\n",
       "      <td>2020-06-03 10:45:20-04:00</td>\n",
       "      <td>A</td>\n",
       "    </tr>\n",
       "    <tr>\n",
       "      <th>2</th>\n",
       "      <td>2</td>\n",
       "      <td>71 Biggest Movers From Friday</td>\n",
       "      <td>https://www.benzinga.com/news/20/05/16103463/7...</td>\n",
       "      <td>Lisa Levin</td>\n",
       "      <td>2020-05-26 04:30:07-04:00</td>\n",
       "      <td>A</td>\n",
       "    </tr>\n",
       "  </tbody>\n",
       "</table>\n",
       "</div>"
      ],
      "text/plain": [
       "   Unnamed: 0                                    headline  \\\n",
       "0           0     Stocks That Hit 52-Week Highs On Friday   \n",
       "1           1  Stocks That Hit 52-Week Highs On Wednesday   \n",
       "2           2               71 Biggest Movers From Friday   \n",
       "\n",
       "                                                 url          publisher  \\\n",
       "0  https://www.benzinga.com/news/20/06/16190091/s...  Benzinga Insights   \n",
       "1  https://www.benzinga.com/news/20/06/16170189/s...  Benzinga Insights   \n",
       "2  https://www.benzinga.com/news/20/05/16103463/7...         Lisa Levin   \n",
       "\n",
       "                        date stock  \n",
       "0  2020-06-05 10:30:54-04:00     A  \n",
       "1  2020-06-03 10:45:20-04:00     A  \n",
       "2  2020-05-26 04:30:07-04:00     A  "
      ]
     },
     "metadata": {},
     "output_type": "display_data"
    },
    {
     "name": "stdout",
     "output_type": "stream",
     "text": [
      "🧬 Column Data Types:\n",
      "Unnamed: 0     int64\n",
      "headline      object\n",
      "url           object\n",
      "publisher     object\n",
      "date          object\n",
      "stock         object\n",
      "dtype: object\n",
      "\n",
      "🔍 Missing Value Summary:\n",
      "✅ No missing values detected.\n",
      "✅ No duplicate rows found.\n"
     ]
    }
   ],
   "source": [
    "# ------------------------------------------------------------------------------\n",
    "# ✅ Initial Sanity Check – Columns, Types, and Nulls\n",
    "# ------------------------------------------------------------------------------\n",
    "\n",
    "if df is not None:\n",
    "    # Show a snapshot of the dataset\n",
    "    display(df.head(3))\n",
    "\n",
    "    # Column data types\n",
    "    print(\"🧬 Column Data Types:\")\n",
    "    print(df.dtypes)\n",
    "\n",
    "    # Check for missing values in key columns\n",
    "    print(\"\\n🔍 Missing Value Summary:\")\n",
    "    missing = df.isna().sum()\n",
    "    print(missing[missing > 0] if missing.any() else \"✅ No missing values detected.\")\n",
    "\n",
    "    # Check for duplicate rows (safety check for merge logic later)\n",
    "    duplicate_count = df.duplicated().sum()\n",
    "    if duplicate_count > 0:\n",
    "        print(f\"⚠️ Found {duplicate_count:,} duplicate rows.\")\n",
    "    else:\n",
    "        print(\"✅ No duplicate rows found.\")\n",
    "\n",
    "else:\n",
    "    print(\"🚫 Skipping diagnostics – DataFrame not loaded.\")\n"
   ]
  },
  {
   "cell_type": "markdown",
   "id": "f29480fc",
   "metadata": {},
   "source": [
    "## ⏰ Robust Timestamp Cleaning – Preprocessing & Parsing\n",
    "\n",
    "Before performing any time-based feature engineering, we clean and normalize the raw timestamp data to ensure consistent, timezone-aware datetime values.\n",
    "\n",
    "- Coerce timestamps into a uniform datetime format with error handling.\n",
    "- Trim whitespace and detect invisible Unicode characters that may break parsing.\n",
    "- Log parsing success rates and sample failures for diagnostics.\n",
    "- Add a new `cleaned_date` column to be used in all downstream time analyses.\n",
    "\n",
    "This step is critical to avoid cascading errors and maximize the reliability of temporal insights.\n"
   ]
  },
  {
   "cell_type": "code",
   "execution_count": 71,
   "id": "5a7808e2",
   "metadata": {},
   "outputs": [
    {
     "name": "stdout",
     "output_type": "stream",
     "text": [
      "\n",
      "========================================\n",
      "TimestampCleaner Summary:\n",
      "========================================\n",
      "Total rows processed:    1,407,328\n",
      "Successfully parsed:     1407328\n",
      "Failed parses (NaT):     0\n",
      "\n",
      "Source value types:\n",
      "  - str: 1407328\n",
      "========================================\n",
      "\n",
      "\n",
      "📅 Timestamp Cleaning Summary:\n",
      "  - Total rows processed: 1,407,328\n",
      "  - Successfully parsed timestamps: 1,407,328\n",
      "  - Failed parses (NaT): 0\n",
      "\n",
      "✅ Sample cleaned timestamps:\n",
      "                     date cleaned_date\n",
      "2020-06-05 10:30:54-04:00   2020-06-05\n",
      "2020-06-03 10:45:20-04:00   2020-06-03\n",
      "2020-05-26 04:30:07-04:00   2020-05-26\n",
      "2020-05-22 12:45:06-04:00   2020-05-22\n",
      "2020-05-22 11:38:59-04:00   2020-05-22\n"
     ]
    }
   ],
   "source": [
    "# ------------------------------------------------------------------------------\n",
    "# ⏰ Robust Timestamp Cleaning with Summary and Diagnostics\n",
    "# ------------------------------------------------------------------------------\n",
    "\n",
    "from src.text_timestamp_cleaner import TimestampCleaner\n",
    "\n",
    "# Instantiate the timestamp cleaner with verbose diagnostics enabled\n",
    "ts_cleaner = TimestampCleaner(verbose=True)\n",
    "\n",
    "# Clean and parse the raw 'date' column, producing a new 'cleaned_date' column\n",
    "df = ts_cleaner.clean(df)\n",
    "\n",
    "# Print summary stats\n",
    "total_rows = len(df)\n",
    "parsed_count = df[\"cleaned_date\"].notna().sum()\n",
    "failed_count = df[\"cleaned_date\"].isna().sum()\n",
    "\n",
    "print(f\"\\n📅 Timestamp Cleaning Summary:\")\n",
    "print(f\"  - Total rows processed: {total_rows:,}\")\n",
    "print(f\"  - Successfully parsed timestamps: {parsed_count:,}\")\n",
    "print(f\"  - Failed parses (NaT): {failed_count:,}\")\n",
    "\n",
    "# Show sample failed original timestamps for diagnosis (if any)\n",
    "if failed_count > 0:\n",
    "    failed_samples = df.loc[df[\"cleaned_date\"].isna(), \"date\"].unique()[:5]\n",
    "    print(\"\\n⚠️ Sample failed original timestamps:\")\n",
    "    for ts in failed_samples:\n",
    "        print(f\"  - {repr(ts)}\")\n",
    "\n",
    "# Display first few cleaned timestamps side by side with original\n",
    "print(\"\\n✅ Sample cleaned timestamps:\")\n",
    "print(df[[\"date\", \"cleaned_date\"]].head(5).to_string(index=False))"
   ]
  },
  {
   "cell_type": "markdown",
   "id": "334a19bf",
   "metadata": {},
   "source": [
    "## 🧼 Cleaned Text Column\n",
    "\n",
    "This step applies a configurable text cleaning pipeline to remove:\n",
    "- HTML tags (e.g., `<br>`)\n",
    "- Escape characters (`&amp;`)\n",
    "- Punctuation\n",
    "- Stopwords (e.g., \"the\", \"and\")\n",
    "\n",
    "The result is saved as a new column `cleaned_headline` for further NLP and sentiment modeling."
   ]
  },
  {
   "cell_type": "code",
   "execution_count": 72,
   "id": "708aec68",
   "metadata": {},
   "outputs": [
    {
     "name": "stdout",
     "output_type": "stream",
     "text": [
      "✅ Column 'cleaned_headline' successfully added.\n",
      "🔍 Sample Before → After:\n",
      "  - Stocks That Hit 52-Week Highs On Friday\n",
      "    → stocks hit 52week highs friday\n",
      "  - Stocks That Hit 52-Week Highs On Wednesday\n",
      "    → stocks hit 52week highs wednesday\n",
      "  - 71 Biggest Movers From Friday\n",
      "    → 71 biggest movers friday\n",
      "🧼 Nulls replaced: 0\n"
     ]
    }
   ],
   "source": [
    "\n",
    "# ------------------------------------------------------------------------------\n",
    "# 🧼 Text Cleaning – remove HTML, normalize casing, etc.\n",
    "# ------------------------------------------------------------------------------\n",
    "\n",
    "from src.text_cleaner import TextCleaner\n",
    "\n",
    "# Initialize cleaner with common config\n",
    "cleaner = TextCleaner(\n",
    "    text_col=\"headline\",\n",
    "    output_col=\"cleaned_headline\",\n",
    "    lowercase=True,\n",
    "    remove_html=True,\n",
    "    remove_punctuation=True,\n",
    "    remove_stopwords=True,\n",
    "    verbose=True,\n",
    ")\n",
    "\n",
    "# Apply transformation\n",
    "try:\n",
    "    df = cleaner.transform(df)\n",
    "except Exception as e:\n",
    "    print(f\"❌ Cleaning failed: {e}\")\n"
   ]
  },
  {
   "cell_type": "markdown",
   "id": "b2ddcfd2",
   "metadata": {},
   "source": [
    "## 📊 Descriptive Statistics – Headline Features, Publisher Frequencies & Publication Dates\n",
    "\n",
    "This section performs key descriptive analytics on the news headlines and their metadata, extracting critical structural and temporal insights:\n",
    "\n",
    "- **Headline length**: Number of characters per headline (including punctuation and whitespace).\n",
    "- **Word count**: Total token count per headline, leveraging NLTK’s tokenizer for accurate word boundaries.\n",
    "- **Publisher activity**: Counts the number of articles contributed by each publisher, identifying the most prolific sources.\n",
    "- **Publication date distribution**: Aggregates and analyzes article counts across publication dates to reveal temporal trends.\n",
    "\n",
    "These foundational metrics inform downstream sentiment modeling and time series analyses while ensuring data quality and coverage transparency.\n"
   ]
  },
  {
   "cell_type": "code",
   "execution_count": 73,
   "id": "950f5819",
   "metadata": {},
   "outputs": [
    {
     "name": "stdout",
     "output_type": "stream",
     "text": [
      "✅ Text features added:\n",
      "📊 Input column: 'headline'\n",
      "🔠 headline_length (chars): {'count': 1407328.0, 'mean': 73.12051490484095, 'std': 40.73530993195065, 'min': 3.0, '25%': 47.0, '50%': 64.0, '75%': 87.0, 'max': 512.0}\n",
      "🗨️ word_count (tokens): {'count': 1407328.0, 'mean': 13.676373240637577, 'std': 8.452906660503414, 'min': 1.0, '25%': 8.0, '50%': 12.0, '75%': 16.0, 'max': 100.0}\n",
      "✅ Found 1034 unique publishers.\n",
      "📈 Top 10 publishers by article count:\n"
     ]
    },
    {
     "data": {
      "application/vnd.microsoft.datawrangler.viewer.v0+json": {
       "columns": [
        {
         "name": "index",
         "rawType": "int64",
         "type": "integer"
        },
        {
         "name": "publisher",
         "rawType": "object",
         "type": "string"
        },
        {
         "name": "article_count",
         "rawType": "int64",
         "type": "integer"
        }
       ],
       "ref": "4b03002d-1ae7-4d71-a44b-239c09527a73",
       "rows": [
        [
         "0",
         "Paul Quintaro",
         "228373"
        ],
        [
         "1",
         "Lisa Levin",
         "186979"
        ],
        [
         "2",
         "Benzinga Newsdesk",
         "150484"
        ],
        [
         "3",
         "Charles Gross",
         "96732"
        ],
        [
         "4",
         "Monica Gerson",
         "82380"
        ],
        [
         "5",
         "Eddie Staley",
         "57254"
        ],
        [
         "6",
         "Hal Lindon",
         "49047"
        ],
        [
         "7",
         "ETF Professor",
         "28489"
        ],
        [
         "8",
         "Juan Lopez",
         "28438"
        ],
        [
         "9",
         "Benzinga Staff",
         "28114"
        ]
       ],
       "shape": {
        "columns": 2,
        "rows": 10
       }
      },
      "text/html": [
       "<div>\n",
       "<style scoped>\n",
       "    .dataframe tbody tr th:only-of-type {\n",
       "        vertical-align: middle;\n",
       "    }\n",
       "\n",
       "    .dataframe tbody tr th {\n",
       "        vertical-align: top;\n",
       "    }\n",
       "\n",
       "    .dataframe thead th {\n",
       "        text-align: right;\n",
       "    }\n",
       "</style>\n",
       "<table border=\"1\" class=\"dataframe\">\n",
       "  <thead>\n",
       "    <tr style=\"text-align: right;\">\n",
       "      <th></th>\n",
       "      <th>publisher</th>\n",
       "      <th>article_count</th>\n",
       "    </tr>\n",
       "  </thead>\n",
       "  <tbody>\n",
       "    <tr>\n",
       "      <th>0</th>\n",
       "      <td>Paul Quintaro</td>\n",
       "      <td>228373</td>\n",
       "    </tr>\n",
       "    <tr>\n",
       "      <th>1</th>\n",
       "      <td>Lisa Levin</td>\n",
       "      <td>186979</td>\n",
       "    </tr>\n",
       "    <tr>\n",
       "      <th>2</th>\n",
       "      <td>Benzinga Newsdesk</td>\n",
       "      <td>150484</td>\n",
       "    </tr>\n",
       "    <tr>\n",
       "      <th>3</th>\n",
       "      <td>Charles Gross</td>\n",
       "      <td>96732</td>\n",
       "    </tr>\n",
       "    <tr>\n",
       "      <th>4</th>\n",
       "      <td>Monica Gerson</td>\n",
       "      <td>82380</td>\n",
       "    </tr>\n",
       "    <tr>\n",
       "      <th>5</th>\n",
       "      <td>Eddie Staley</td>\n",
       "      <td>57254</td>\n",
       "    </tr>\n",
       "    <tr>\n",
       "      <th>6</th>\n",
       "      <td>Hal Lindon</td>\n",
       "      <td>49047</td>\n",
       "    </tr>\n",
       "    <tr>\n",
       "      <th>7</th>\n",
       "      <td>ETF Professor</td>\n",
       "      <td>28489</td>\n",
       "    </tr>\n",
       "    <tr>\n",
       "      <th>8</th>\n",
       "      <td>Juan Lopez</td>\n",
       "      <td>28438</td>\n",
       "    </tr>\n",
       "    <tr>\n",
       "      <th>9</th>\n",
       "      <td>Benzinga Staff</td>\n",
       "      <td>28114</td>\n",
       "    </tr>\n",
       "  </tbody>\n",
       "</table>\n",
       "</div>"
      ],
      "text/plain": [
       "           publisher  article_count\n",
       "0      Paul Quintaro         228373\n",
       "1         Lisa Levin         186979\n",
       "2  Benzinga Newsdesk         150484\n",
       "3      Charles Gross          96732\n",
       "4      Monica Gerson          82380\n",
       "5       Eddie Staley          57254\n",
       "6         Hal Lindon          49047\n",
       "7      ETF Professor          28489\n",
       "8         Juan Lopez          28438\n",
       "9     Benzinga Staff          28114"
      ]
     },
     "metadata": {},
     "output_type": "display_data"
    },
    {
     "name": "stdout",
     "output_type": "stream",
     "text": [
      "\n",
      "📊 Top 10 Publishers by Article Count:\n"
     ]
    },
    {
     "data": {
      "application/vnd.microsoft.datawrangler.viewer.v0+json": {
       "columns": [
        {
         "name": "index",
         "rawType": "int64",
         "type": "integer"
        },
        {
         "name": "publisher",
         "rawType": "object",
         "type": "string"
        },
        {
         "name": "article_count",
         "rawType": "int64",
         "type": "integer"
        }
       ],
       "ref": "1d45ba4a-5bde-46f1-80fd-1ba52c504422",
       "rows": [
        [
         "0",
         "Paul Quintaro",
         "228373"
        ],
        [
         "1",
         "Lisa Levin",
         "186979"
        ],
        [
         "2",
         "Benzinga Newsdesk",
         "150484"
        ],
        [
         "3",
         "Charles Gross",
         "96732"
        ],
        [
         "4",
         "Monica Gerson",
         "82380"
        ],
        [
         "5",
         "Eddie Staley",
         "57254"
        ],
        [
         "6",
         "Hal Lindon",
         "49047"
        ],
        [
         "7",
         "ETF Professor",
         "28489"
        ],
        [
         "8",
         "Juan Lopez",
         "28438"
        ],
        [
         "9",
         "Benzinga Staff",
         "28114"
        ]
       ],
       "shape": {
        "columns": 2,
        "rows": 10
       }
      },
      "text/html": [
       "<div>\n",
       "<style scoped>\n",
       "    .dataframe tbody tr th:only-of-type {\n",
       "        vertical-align: middle;\n",
       "    }\n",
       "\n",
       "    .dataframe tbody tr th {\n",
       "        vertical-align: top;\n",
       "    }\n",
       "\n",
       "    .dataframe thead th {\n",
       "        text-align: right;\n",
       "    }\n",
       "</style>\n",
       "<table border=\"1\" class=\"dataframe\">\n",
       "  <thead>\n",
       "    <tr style=\"text-align: right;\">\n",
       "      <th></th>\n",
       "      <th>publisher</th>\n",
       "      <th>article_count</th>\n",
       "    </tr>\n",
       "  </thead>\n",
       "  <tbody>\n",
       "    <tr>\n",
       "      <th>0</th>\n",
       "      <td>Paul Quintaro</td>\n",
       "      <td>228373</td>\n",
       "    </tr>\n",
       "    <tr>\n",
       "      <th>1</th>\n",
       "      <td>Lisa Levin</td>\n",
       "      <td>186979</td>\n",
       "    </tr>\n",
       "    <tr>\n",
       "      <th>2</th>\n",
       "      <td>Benzinga Newsdesk</td>\n",
       "      <td>150484</td>\n",
       "    </tr>\n",
       "    <tr>\n",
       "      <th>3</th>\n",
       "      <td>Charles Gross</td>\n",
       "      <td>96732</td>\n",
       "    </tr>\n",
       "    <tr>\n",
       "      <th>4</th>\n",
       "      <td>Monica Gerson</td>\n",
       "      <td>82380</td>\n",
       "    </tr>\n",
       "    <tr>\n",
       "      <th>5</th>\n",
       "      <td>Eddie Staley</td>\n",
       "      <td>57254</td>\n",
       "    </tr>\n",
       "    <tr>\n",
       "      <th>6</th>\n",
       "      <td>Hal Lindon</td>\n",
       "      <td>49047</td>\n",
       "    </tr>\n",
       "    <tr>\n",
       "      <th>7</th>\n",
       "      <td>ETF Professor</td>\n",
       "      <td>28489</td>\n",
       "    </tr>\n",
       "    <tr>\n",
       "      <th>8</th>\n",
       "      <td>Juan Lopez</td>\n",
       "      <td>28438</td>\n",
       "    </tr>\n",
       "    <tr>\n",
       "      <th>9</th>\n",
       "      <td>Benzinga Staff</td>\n",
       "      <td>28114</td>\n",
       "    </tr>\n",
       "  </tbody>\n",
       "</table>\n",
       "</div>"
      ],
      "text/plain": [
       "           publisher  article_count\n",
       "0      Paul Quintaro         228373\n",
       "1         Lisa Levin         186979\n",
       "2  Benzinga Newsdesk         150484\n",
       "3      Charles Gross          96732\n",
       "4      Monica Gerson          82380\n",
       "5       Eddie Staley          57254\n",
       "6         Hal Lindon          49047\n",
       "7      ETF Professor          28489\n",
       "8         Juan Lopez          28438\n",
       "9     Benzinga Staff          28114"
      ]
     },
     "metadata": {},
     "output_type": "display_data"
    },
    {
     "name": "stderr",
     "output_type": "stream",
     "text": [
      "c:\\Users\\admin\\Documents\\GIT Repositories\\b5w1-stock-market-challenge\\src\\text_publishers.py:156: FutureWarning: \n",
      "\n",
      "Passing `palette` without assigning `hue` is deprecated and will be removed in v0.14.0. Assign the `y` variable to `hue` and set `legend=False` for the same effect.\n",
      "\n",
      "  \n",
      "c:\\Users\\admin\\Documents\\GIT Repositories\\b5w1-stock-market-challenge\\src\\text_publishers.py:162: UserWarning: Glyph 127970 (\\N{OFFICE BUILDING}) missing from font(s) DejaVu Sans.\n",
      "  Raises:\n",
      "c:\\Users\\admin\\Documents\\GIT Repositories\\b5w1-stock-market-challenge\\stock-market-challenge\\Lib\\site-packages\\IPython\\core\\pylabtools.py:170: UserWarning: Glyph 127970 (\\N{OFFICE BUILDING}) missing from font(s) DejaVu Sans.\n",
      "  fig.canvas.print_figure(bytes_io, **kw)\n"
     ]
    },
    {
     "data": {
      "image/png": "[encoded data removed]",
      "text/plain": [
       "<Figure size 1000x500 with 1 Axes>"
      ]
     },
     "metadata": {},
     "output_type": "display_data"
    },
    {
     "name": "stdout",
     "output_type": "stream",
     "text": [
      "📊 Chart rendered for top 10 publishers.\n",
      "✅ Computed article counts over 3955 dates.\n",
      "🔍 Sample of publication date counts:\n"
     ]
    },
    {
     "data": {
      "application/vnd.microsoft.datawrangler.viewer.v0+json": {
       "columns": [
        {
         "name": "index",
         "rawType": "int64",
         "type": "integer"
        },
        {
         "name": "cleaned_date",
         "rawType": "datetime64[ns]",
         "type": "datetime"
        },
        {
         "name": "article_count",
         "rawType": "int64",
         "type": "integer"
        }
       ],
       "ref": "d49ca716-ccc6-4662-99d3-0c65a09094cb",
       "rows": [
        [
         "0",
         "2009-02-14 00:00:00",
         "1"
        ],
        [
         "1",
         "2009-04-27 00:00:00",
         "2"
        ],
        [
         "2",
         "2009-04-29 00:00:00",
         "1"
        ],
        [
         "3",
         "2009-05-22 00:00:00",
         "1"
        ],
        [
         "4",
         "2009-05-27 00:00:00",
         "6"
        ]
       ],
       "shape": {
        "columns": 2,
        "rows": 5
       }
      },
      "text/html": [
       "<div>\n",
       "<style scoped>\n",
       "    .dataframe tbody tr th:only-of-type {\n",
       "        vertical-align: middle;\n",
       "    }\n",
       "\n",
       "    .dataframe tbody tr th {\n",
       "        vertical-align: top;\n",
       "    }\n",
       "\n",
       "    .dataframe thead th {\n",
       "        text-align: right;\n",
       "    }\n",
       "</style>\n",
       "<table border=\"1\" class=\"dataframe\">\n",
       "  <thead>\n",
       "    <tr style=\"text-align: right;\">\n",
       "      <th></th>\n",
       "      <th>cleaned_date</th>\n",
       "      <th>article_count</th>\n",
       "    </tr>\n",
       "  </thead>\n",
       "  <tbody>\n",
       "    <tr>\n",
       "      <th>0</th>\n",
       "      <td>2009-02-14</td>\n",
       "      <td>1</td>\n",
       "    </tr>\n",
       "    <tr>\n",
       "      <th>1</th>\n",
       "      <td>2009-04-27</td>\n",
       "      <td>2</td>\n",
       "    </tr>\n",
       "    <tr>\n",
       "      <th>2</th>\n",
       "      <td>2009-04-29</td>\n",
       "      <td>1</td>\n",
       "    </tr>\n",
       "    <tr>\n",
       "      <th>3</th>\n",
       "      <td>2009-05-22</td>\n",
       "      <td>1</td>\n",
       "    </tr>\n",
       "    <tr>\n",
       "      <th>4</th>\n",
       "      <td>2009-05-27</td>\n",
       "      <td>6</td>\n",
       "    </tr>\n",
       "  </tbody>\n",
       "</table>\n",
       "</div>"
      ],
      "text/plain": [
       "  cleaned_date  article_count\n",
       "0   2009-02-14              1\n",
       "1   2009-04-27              2\n",
       "2   2009-04-29              1\n",
       "3   2009-05-22              1\n",
       "4   2009-05-27              6"
      ]
     },
     "metadata": {},
     "output_type": "display_data"
    },
    {
     "name": "stdout",
     "output_type": "stream",
     "text": [
      "\n",
      "✅ Computed article counts over 3955 unique dates.\n",
      "🔍 Sample of publication date counts:\n"
     ]
    },
    {
     "data": {
      "application/vnd.microsoft.datawrangler.viewer.v0+json": {
       "columns": [
        {
         "name": "index",
         "rawType": "int64",
         "type": "integer"
        },
        {
         "name": "cleaned_date",
         "rawType": "datetime64[ns]",
         "type": "datetime"
        },
        {
         "name": "article_count",
         "rawType": "int64",
         "type": "integer"
        }
       ],
       "ref": "c34b38e4-588d-4728-b8b2-1094fcbc59d0",
       "rows": [
        [
         "0",
         "2009-02-14 00:00:00",
         "1"
        ],
        [
         "1",
         "2009-04-27 00:00:00",
         "2"
        ],
        [
         "2",
         "2009-04-29 00:00:00",
         "1"
        ],
        [
         "3",
         "2009-05-22 00:00:00",
         "1"
        ],
        [
         "4",
         "2009-05-27 00:00:00",
         "6"
        ],
        [
         "5",
         "2009-05-29 00:00:00",
         "2"
        ],
        [
         "6",
         "2009-05-30 00:00:00",
         "3"
        ],
        [
         "7",
         "2009-06-01 00:00:00",
         "5"
        ],
        [
         "8",
         "2009-06-02 00:00:00",
         "2"
        ],
        [
         "9",
         "2009-06-05 00:00:00",
         "6"
        ]
       ],
       "shape": {
        "columns": 2,
        "rows": 10
       }
      },
      "text/html": [
       "<div>\n",
       "<style scoped>\n",
       "    .dataframe tbody tr th:only-of-type {\n",
       "        vertical-align: middle;\n",
       "    }\n",
       "\n",
       "    .dataframe tbody tr th {\n",
       "        vertical-align: top;\n",
       "    }\n",
       "\n",
       "    .dataframe thead th {\n",
       "        text-align: right;\n",
       "    }\n",
       "</style>\n",
       "<table border=\"1\" class=\"dataframe\">\n",
       "  <thead>\n",
       "    <tr style=\"text-align: right;\">\n",
       "      <th></th>\n",
       "      <th>cleaned_date</th>\n",
       "      <th>article_count</th>\n",
       "    </tr>\n",
       "  </thead>\n",
       "  <tbody>\n",
       "    <tr>\n",
       "      <th>0</th>\n",
       "      <td>2009-02-14</td>\n",
       "      <td>1</td>\n",
       "    </tr>\n",
       "    <tr>\n",
       "      <th>1</th>\n",
       "      <td>2009-04-27</td>\n",
       "      <td>2</td>\n",
       "    </tr>\n",
       "    <tr>\n",
       "      <th>2</th>\n",
       "      <td>2009-04-29</td>\n",
       "      <td>1</td>\n",
       "    </tr>\n",
       "    <tr>\n",
       "      <th>3</th>\n",
       "      <td>2009-05-22</td>\n",
       "      <td>1</td>\n",
       "    </tr>\n",
       "    <tr>\n",
       "      <th>4</th>\n",
       "      <td>2009-05-27</td>\n",
       "      <td>6</td>\n",
       "    </tr>\n",
       "    <tr>\n",
       "      <th>5</th>\n",
       "      <td>2009-05-29</td>\n",
       "      <td>2</td>\n",
       "    </tr>\n",
       "    <tr>\n",
       "      <th>6</th>\n",
       "      <td>2009-05-30</td>\n",
       "      <td>3</td>\n",
       "    </tr>\n",
       "    <tr>\n",
       "      <th>7</th>\n",
       "      <td>2009-06-01</td>\n",
       "      <td>5</td>\n",
       "    </tr>\n",
       "    <tr>\n",
       "      <th>8</th>\n",
       "      <td>2009-06-02</td>\n",
       "      <td>2</td>\n",
       "    </tr>\n",
       "    <tr>\n",
       "      <th>9</th>\n",
       "      <td>2009-06-05</td>\n",
       "      <td>6</td>\n",
       "    </tr>\n",
       "  </tbody>\n",
       "</table>\n",
       "</div>"
      ],
      "text/plain": [
       "  cleaned_date  article_count\n",
       "0   2009-02-14              1\n",
       "1   2009-04-27              2\n",
       "2   2009-04-29              1\n",
       "3   2009-05-22              1\n",
       "4   2009-05-27              6\n",
       "5   2009-05-29              2\n",
       "6   2009-05-30              3\n",
       "7   2009-06-01              5\n",
       "8   2009-06-02              2\n",
       "9   2009-06-05              6"
      ]
     },
     "metadata": {},
     "output_type": "display_data"
    },
    {
     "name": "stderr",
     "output_type": "stream",
     "text": [
      "c:\\Users\\admin\\Documents\\GIT Repositories\\b5w1-stock-market-challenge\\src\\text_publishers.py:288: UserWarning: Glyph 128467 (\\N{SPIRAL CALENDAR PAD}) missing from font(s) DejaVu Sans.\n",
      "c:\\Users\\admin\\Documents\\GIT Repositories\\b5w1-stock-market-challenge\\stock-market-challenge\\Lib\\site-packages\\IPython\\core\\pylabtools.py:170: UserWarning: Glyph 128467 (\\N{SPIRAL CALENDAR PAD}) missing from font(s) DejaVu Sans.\n",
      "  fig.canvas.print_figure(bytes_io, **kw)\n"
     ]
    },
    {
     "data": {
      "image/png": "[encoded data removed]",
      "text/plain": [
       "<Figure size 1200x500 with 1 Axes>"
      ]
     },
     "metadata": {},
     "output_type": "display_data"
    },
    {
     "name": "stdout",
     "output_type": "stream",
     "text": [
      "📊 Publication date frequency chart rendered successfully.\n"
     ]
    }
   ],
   "source": [
    "# ------------------------------------------------------------------------------\n",
    "# 📊 Descriptive Statistics – Publisher Frequencies & Publication Date Counts\n",
    "# ------------------------------------------------------------------------------\n",
    "\n",
    "from src.text_features import TextFeatureExtractor\n",
    "from src.text_publishers import PublisherAnalyzer\n",
    "\n",
    "# Initialize feature extractor for headline length and word count\n",
    "feature_extractor = TextFeatureExtractor(headline_col=\"headline\", verbose=True)\n",
    "\n",
    "# Initialize publisher analyzer with verbosity for diagnostics\n",
    "publisher_analyzer = PublisherAnalyzer(publisher_col=\"publisher\", verbose=True)\n",
    "\n",
    "try:\n",
    "    # Extract headline length and word count features\n",
    "    df = feature_extractor.transform(df)\n",
    "\n",
    "    # Compute article counts per publisher and store results internally\n",
    "    publisher_freq_df = publisher_analyzer.analyze(df, top_n=10)\n",
    "\n",
    "    # Print heading for clarity\n",
    "    print(\"\\n📊 Top 10 Publishers by Article Count:\")\n",
    "\n",
    "    # Use environment-agnostic display helper method to show frequency table\n",
    "    publisher_analyzer._display(publisher_freq_df.head(10))\n",
    "\n",
    "    # Plot top 10 publishers by article volume\n",
    "    publisher_analyzer.plot_top_publishers(top_n=10)\n",
    "\n",
    "    # Aggregate article counts by publication date (expects cleaned datetime column)\n",
    "    pub_date_counts_df = publisher_analyzer.analyze_publication_dates(\n",
    "        df, date_col=\"cleaned_date\"\n",
    "    )\n",
    "\n",
    "    # Print count summary and sample preview of publication dates\n",
    "    print(\n",
    "        f\"\\n✅ Computed article counts over {pub_date_counts_df.shape[0]} unique dates.\"\n",
    "    )\n",
    "    print(\"🔍 Sample of publication date counts:\")\n",
    "    publisher_analyzer._display(pub_date_counts_df.head(10))\n",
    "\n",
    "    # Plot article counts over time as a line chart\n",
    "    publisher_analyzer.plot_publication_dates(pub_date_counts_df)\n",
    "\n",
    "except Exception as e:\n",
    "    # Catch-all for errors in descriptive statistics computation or plotting\n",
    "    print(f\"❌ Error during descriptive statistics extraction: {e}\")"
   ]
  },
  {
   "cell_type": "markdown",
   "id": "36a12d2e",
   "metadata": {},
   "source": [
    "## 📊 Headline Length & Word Count Distributions\n",
    "\n",
    "This visualization shows the structural distribution of headlines:\n",
    "- **Character Length:** Total characters per headline (`headline_length`)\n",
    "- **Word Count:** Number of tokens per headline (`word_count`)\n",
    "\n",
    "These insights help validate text normalization and highlight outliers (e.g., abnormally short or long headlines).\n"
   ]
  },
  {
   "cell_type": "code",
   "execution_count": 74,
   "id": "8b088f71",
   "metadata": {},
   "outputs": [
    {
     "name": "stdout",
     "output_type": "stream",
     "text": [
      "✅ Columns validated: headline_length, word_count\n",
      "🎨 Style applied: seaborn-v0_8-muted\n"
     ]
    },
    {
     "name": "stderr",
     "output_type": "stream",
     "text": [
      "c:\\Users\\admin\\Documents\\GIT Repositories\\b5w1-stock-market-challenge\\src\\text_distributions.py:150: UserWarning: Glyph 128221 (\\N{MEMO}) missing from font(s) DejaVu Sans.\n",
      "  plt.tight_layout()  # Adjust layout to prevent overlap\n",
      "c:\\Users\\admin\\Documents\\GIT Repositories\\b5w1-stock-market-challenge\\stock-market-challenge\\Lib\\site-packages\\IPython\\core\\pylabtools.py:170: UserWarning: Glyph 128221 (\\N{MEMO}) missing from font(s) DejaVu Sans.\n",
      "  fig.canvas.print_figure(bytes_io, **kw)\n"
     ]
    },
    {
     "data": {
      "image/png": "[encoded data removed]",
      "text/plain": [
       "<Figure size 1200x400 with 2 Axes>"
      ]
     },
     "metadata": {},
     "output_type": "display_data"
    },
    {
     "name": "stdout",
     "output_type": "stream",
     "text": [
      "📈 Distribution plots rendered successfully.\n"
     ]
    }
   ],
   "source": [
    "# ------------------------------------------------------------------------------  \n",
    "# 📊 Visualize Headline Text Distributions – Length & Word Count  \n",
    "# ------------------------------------------------------------------------------\n",
    "\n",
    "from src.text_distributions import TextDistributionPlotter\n",
    "\n",
    "# Initialize the plotter\n",
    "plotter = TextDistributionPlotter(\n",
    "    length_col=\"headline_length\",\n",
    "    word_col=\"word_count\",\n",
    "    bins=40,\n",
    "    title_prefix=\"📝\",\n",
    "    style=\"seaborn-v0_8-muted\",\n",
    "    use_latex_style=False,\n",
    "    verbose=True,\n",
    ")\n",
    "\n",
    "# Safely plot distribution histograms\n",
    "try:\n",
    "    plotter.plot(df, show=True)\n",
    "except Exception as e:\n",
    "    print(f\"❌ Failed to render text distribution plots: {e}\")\n"
   ]
  },
  {
   "cell_type": "markdown",
   "id": "7e6caea7",
   "metadata": {},
   "source": [
    "## 🏢 Publisher Frequency Analysis\n",
    "\n",
    "Analyzes the number of headlines published by each media outlet.  \n",
    "Highlights the most prolific sources in the dataset and helps assess coverage concentration or potential bias."
   ]
  },
  {
   "cell_type": "code",
   "execution_count": 75,
   "id": "ebf9c094",
   "metadata": {},
   "outputs": [
    {
     "name": "stdout",
     "output_type": "stream",
     "text": [
      "✅ Found 1034 unique publishers.\n",
      "📈 Top 10 publishers by article count:\n"
     ]
    },
    {
     "data": {
      "application/vnd.microsoft.datawrangler.viewer.v0+json": {
       "columns": [
        {
         "name": "index",
         "rawType": "int64",
         "type": "integer"
        },
        {
         "name": "publisher",
         "rawType": "object",
         "type": "string"
        },
        {
         "name": "article_count",
         "rawType": "int64",
         "type": "integer"
        }
       ],
       "ref": "159439a4-b3f2-42c7-ae75-965fe2cd5b8d",
       "rows": [
        [
         "0",
         "Paul Quintaro",
         "228373"
        ],
        [
         "1",
         "Lisa Levin",
         "186979"
        ],
        [
         "2",
         "Benzinga Newsdesk",
         "150484"
        ],
        [
         "3",
         "Charles Gross",
         "96732"
        ],
        [
         "4",
         "Monica Gerson",
         "82380"
        ],
        [
         "5",
         "Eddie Staley",
         "57254"
        ],
        [
         "6",
         "Hal Lindon",
         "49047"
        ],
        [
         "7",
         "ETF Professor",
         "28489"
        ],
        [
         "8",
         "Juan Lopez",
         "28438"
        ],
        [
         "9",
         "Benzinga Staff",
         "28114"
        ]
       ],
       "shape": {
        "columns": 2,
        "rows": 10
       }
      },
      "text/html": [
       "<div>\n",
       "<style scoped>\n",
       "    .dataframe tbody tr th:only-of-type {\n",
       "        vertical-align: middle;\n",
       "    }\n",
       "\n",
       "    .dataframe tbody tr th {\n",
       "        vertical-align: top;\n",
       "    }\n",
       "\n",
       "    .dataframe thead th {\n",
       "        text-align: right;\n",
       "    }\n",
       "</style>\n",
       "<table border=\"1\" class=\"dataframe\">\n",
       "  <thead>\n",
       "    <tr style=\"text-align: right;\">\n",
       "      <th></th>\n",
       "      <th>publisher</th>\n",
       "      <th>article_count</th>\n",
       "    </tr>\n",
       "  </thead>\n",
       "  <tbody>\n",
       "    <tr>\n",
       "      <th>0</th>\n",
       "      <td>Paul Quintaro</td>\n",
       "      <td>228373</td>\n",
       "    </tr>\n",
       "    <tr>\n",
       "      <th>1</th>\n",
       "      <td>Lisa Levin</td>\n",
       "      <td>186979</td>\n",
       "    </tr>\n",
       "    <tr>\n",
       "      <th>2</th>\n",
       "      <td>Benzinga Newsdesk</td>\n",
       "      <td>150484</td>\n",
       "    </tr>\n",
       "    <tr>\n",
       "      <th>3</th>\n",
       "      <td>Charles Gross</td>\n",
       "      <td>96732</td>\n",
       "    </tr>\n",
       "    <tr>\n",
       "      <th>4</th>\n",
       "      <td>Monica Gerson</td>\n",
       "      <td>82380</td>\n",
       "    </tr>\n",
       "    <tr>\n",
       "      <th>5</th>\n",
       "      <td>Eddie Staley</td>\n",
       "      <td>57254</td>\n",
       "    </tr>\n",
       "    <tr>\n",
       "      <th>6</th>\n",
       "      <td>Hal Lindon</td>\n",
       "      <td>49047</td>\n",
       "    </tr>\n",
       "    <tr>\n",
       "      <th>7</th>\n",
       "      <td>ETF Professor</td>\n",
       "      <td>28489</td>\n",
       "    </tr>\n",
       "    <tr>\n",
       "      <th>8</th>\n",
       "      <td>Juan Lopez</td>\n",
       "      <td>28438</td>\n",
       "    </tr>\n",
       "    <tr>\n",
       "      <th>9</th>\n",
       "      <td>Benzinga Staff</td>\n",
       "      <td>28114</td>\n",
       "    </tr>\n",
       "  </tbody>\n",
       "</table>\n",
       "</div>"
      ],
      "text/plain": [
       "           publisher  article_count\n",
       "0      Paul Quintaro         228373\n",
       "1         Lisa Levin         186979\n",
       "2  Benzinga Newsdesk         150484\n",
       "3      Charles Gross          96732\n",
       "4      Monica Gerson          82380\n",
       "5       Eddie Staley          57254\n",
       "6         Hal Lindon          49047\n",
       "7      ETF Professor          28489\n",
       "8         Juan Lopez          28438\n",
       "9     Benzinga Staff          28114"
      ]
     },
     "metadata": {},
     "output_type": "display_data"
    },
    {
     "name": "stderr",
     "output_type": "stream",
     "text": [
      "c:\\Users\\admin\\Documents\\GIT Repositories\\b5w1-stock-market-challenge\\src\\text_publishers.py:156: FutureWarning: \n",
      "\n",
      "Passing `palette` without assigning `hue` is deprecated and will be removed in v0.14.0. Assign the `y` variable to `hue` and set `legend=False` for the same effect.\n",
      "\n",
      "  \n",
      "c:\\Users\\admin\\Documents\\GIT Repositories\\b5w1-stock-market-challenge\\src\\text_publishers.py:162: UserWarning: Glyph 127970 (\\N{OFFICE BUILDING}) missing from font(s) DejaVu Sans.\n",
      "  Raises:\n",
      "c:\\Users\\admin\\Documents\\GIT Repositories\\b5w1-stock-market-challenge\\stock-market-challenge\\Lib\\site-packages\\IPython\\core\\pylabtools.py:170: UserWarning: Glyph 127970 (\\N{OFFICE BUILDING}) missing from font(s) DejaVu Sans.\n",
      "  fig.canvas.print_figure(bytes_io, **kw)\n"
     ]
    },
    {
     "data": {
      "image/png": "[encoded data removed]",
      "text/plain": [
       "<Figure size 1000x500 with 1 Axes>"
      ]
     },
     "metadata": {},
     "output_type": "display_data"
    },
    {
     "name": "stdout",
     "output_type": "stream",
     "text": [
      "📊 Chart rendered for top 10 publishers.\n"
     ]
    }
   ],
   "source": [
    "# ------------------------------------------------------------------------------  \n",
    "# 📰 Publisher Frequency Analysis\n",
    "# ------------------------------------------------------------------------------\n",
    "\n",
    "from src.text_publishers import PublisherAnalyzer  # ✅ correct class name\n",
    "\n",
    "# Initialize analysis object\n",
    "try:\n",
    "    publisher_analyzer = PublisherAnalyzer(\n",
    "        publisher_col=\"publisher\",\n",
    "        verbose=True\n",
    "    )\n",
    "\n",
    "    # Analyze publisher frequency\n",
    "    publisher_freq_df = publisher_analyzer.analyze(df)\n",
    "\n",
    "    # Plot top publishers\n",
    "    publisher_analyzer.plot_top_publishers(top_n=10)\n",
    "\n",
    "except Exception as e:\n",
    "    print(f\"❌ Publisher frequency analysis failed: {e}\")\n"
   ]
  },
  {
   "cell_type": "markdown",
   "id": "a58c6486",
   "metadata": {},
   "source": [
    "## 🌐 Publisher Domain Extraction\n",
    "\n",
    "Extracts and groups publisher URLs or names into standardized domain patterns (e.g., `yahoo.com`).  \n",
    "Useful for identifying bots, conglomerates, and repeated sources behind different brand names.\n"
   ]
  },
  {
   "cell_type": "code",
   "execution_count": 76,
   "id": "96f7728b",
   "metadata": {},
   "outputs": [
    {
     "name": "stdout",
     "output_type": "stream",
     "text": [
      "✅ Domain analysis complete on column 'url'\n",
      "🔢 1 unique domains found.\n",
      "📈 Top 10 domains:\n"
     ]
    },
    {
     "data": {
      "application/vnd.microsoft.datawrangler.viewer.v0+json": {
       "columns": [
        {
         "name": "index",
         "rawType": "int64",
         "type": "integer"
        },
        {
         "name": "publisher_domain",
         "rawType": "object",
         "type": "string"
        },
        {
         "name": "article_count",
         "rawType": "int64",
         "type": "integer"
        }
       ],
       "ref": "21f49334-7c7b-4803-9af1-5add130333f0",
       "rows": [
        [
         "0",
         "benzinga.com",
         "1407328"
        ]
       ],
       "shape": {
        "columns": 2,
        "rows": 1
       }
      },
      "text/html": [
       "<div>\n",
       "<style scoped>\n",
       "    .dataframe tbody tr th:only-of-type {\n",
       "        vertical-align: middle;\n",
       "    }\n",
       "\n",
       "    .dataframe tbody tr th {\n",
       "        vertical-align: top;\n",
       "    }\n",
       "\n",
       "    .dataframe thead th {\n",
       "        text-align: right;\n",
       "    }\n",
       "</style>\n",
       "<table border=\"1\" class=\"dataframe\">\n",
       "  <thead>\n",
       "    <tr style=\"text-align: right;\">\n",
       "      <th></th>\n",
       "      <th>publisher_domain</th>\n",
       "      <th>article_count</th>\n",
       "    </tr>\n",
       "  </thead>\n",
       "  <tbody>\n",
       "    <tr>\n",
       "      <th>0</th>\n",
       "      <td>benzinga.com</td>\n",
       "      <td>1407328</td>\n",
       "    </tr>\n",
       "  </tbody>\n",
       "</table>\n",
       "</div>"
      ],
      "text/plain": [
       "  publisher_domain  article_count\n",
       "0     benzinga.com        1407328"
      ]
     },
     "metadata": {},
     "output_type": "display_data"
    },
    {
     "name": "stdout",
     "output_type": "stream",
     "text": [
      "📋 Columns in top_data: ['publisher_domain', 'article_count']\n",
      "  publisher_domain  article_count\n",
      "0     benzinga.com        1407328\n"
     ]
    },
    {
     "name": "stderr",
     "output_type": "stream",
     "text": [
      "c:\\Users\\admin\\Documents\\GIT Repositories\\b5w1-stock-market-challenge\\src\\text_publishers_domains.py:176: FutureWarning: \n",
      "\n",
      "Passing `palette` without assigning `hue` is deprecated and will be removed in v0.14.0. Assign the `y` variable to `hue` and set `legend=False` for the same effect.\n",
      "\n",
      "  sns.barplot(\n",
      "c:\\Users\\admin\\Documents\\GIT Repositories\\b5w1-stock-market-challenge\\src\\text_publishers_domains.py:182: UserWarning: Glyph 127760 (\\N{GLOBE WITH MERIDIANS}) missing from font(s) DejaVu Sans.\n",
      "  plt.tight_layout()\n",
      "c:\\Users\\admin\\Documents\\GIT Repositories\\b5w1-stock-market-challenge\\stock-market-challenge\\Lib\\site-packages\\IPython\\core\\pylabtools.py:170: UserWarning: Glyph 127760 (\\N{GLOBE WITH MERIDIANS}) missing from font(s) DejaVu Sans.\n",
      "  fig.canvas.print_figure(bytes_io, **kw)\n"
     ]
    },
    {
     "data": {
      "image/png": "[encoded data removed]",
      "text/plain": [
       "<Figure size 1000x500 with 1 Axes>"
      ]
     },
     "metadata": {},
     "output_type": "display_data"
    },
    {
     "name": "stdout",
     "output_type": "stream",
     "text": [
      "📊 Rendered bar chart for top 10 domains.\n"
     ]
    }
   ],
   "source": [
    "# ------------------------------------------------------------------------------  \n",
    "# 🌐 Publisher Domain Extraction  \n",
    "# ------------------------------------------------------------------------------\n",
    "\n",
    "from src.text_publishers_domains import PublisherDomainAnalyzer\n",
    "\n",
    "try:\n",
    "    domain_analyzer = PublisherDomainAnalyzer(\n",
    "         publisher_col=\"url\",\n",
    "        domain_col=\"publisher_domain\",\n",
    "        verbose=True\n",
    "    )\n",
    "\n",
    "    # Run analysis and domain extraction\n",
    "    df = domain_analyzer.analyze(df)\n",
    "\n",
    "    # Plot top domains\n",
    "    domain_analyzer.plot_top_domains(top_n=10)\n",
    "\n",
    "except Exception as e:\n",
    "    print(f\"❌ Domain extraction failed: {e}\")\n"
   ]
  },
  {
   "cell_type": "markdown",
   "id": "0b278ac3",
   "metadata": {},
   "source": [
    "## ⏱️ Time Series Analysis of News Volume\n",
    "\n",
    "This section extracts:\n",
    "- **Publication frequency over time** to identify periods of heavy news activity.\n",
    "- **Weekday vs weekend bias** to detect institutional vs retail-driven publishing cycles.\n",
    "- Useful for aligning market reactions and sentiment shifts with news density.\n"
   ]
  },
  {
   "cell_type": "code",
   "execution_count": 77,
   "id": "29431503",
   "metadata": {},
   "outputs": [
    {
     "name": "stdout",
     "output_type": "stream",
     "text": [
      "✅ Time features added: ['date_only', 'hour', 'day_of_week', 'is_weekend']\n",
      "📅 Unique dates: 3955\n",
      "🕒 Publishing hours: [19, 20]\n"
     ]
    },
    {
     "name": "stderr",
     "output_type": "stream",
     "text": [
      "c:\\Users\\admin\\Documents\\GIT Repositories\\b5w1-stock-market-challenge\\src\\text_time_series.py:169: UserWarning: Glyph 128467 (\\N{SPIRAL CALENDAR PAD}) missing from font(s) DejaVu Sans.\n",
      "  plt.tight_layout()  # Adjust layout to prevent clipping\n",
      "c:\\Users\\admin\\Documents\\GIT Repositories\\b5w1-stock-market-challenge\\stock-market-challenge\\Lib\\site-packages\\IPython\\core\\pylabtools.py:170: UserWarning: Glyph 128467 (\\N{SPIRAL CALENDAR PAD}) missing from font(s) DejaVu Sans.\n",
      "  fig.canvas.print_figure(bytes_io, **kw)\n"
     ]
    },
    {
     "data": {
      "image/png": "[encoded data removed]",
      "text/plain": [
       "<Figure size 1200x400 with 1 Axes>"
      ]
     },
     "metadata": {},
     "output_type": "display_data"
    },
    {
     "name": "stderr",
     "output_type": "stream",
     "text": [
      "c:\\Users\\admin\\Documents\\GIT Repositories\\b5w1-stock-market-challenge\\src\\text_time_series.py:193: UserWarning: Glyph 128338 (\\N{CLOCK FACE THREE OCLOCK}) missing from font(s) DejaVu Sans.\n",
      "  plt.tight_layout()  # Adjust layout to prevent clipping\n",
      "c:\\Users\\admin\\Documents\\GIT Repositories\\b5w1-stock-market-challenge\\stock-market-challenge\\Lib\\site-packages\\IPython\\core\\pylabtools.py:170: UserWarning: Glyph 128338 (\\N{CLOCK FACE THREE OCLOCK}) missing from font(s) DejaVu Sans.\n",
      "  fig.canvas.print_figure(bytes_io, **kw)\n"
     ]
    },
    {
     "data": {
      "image/png": "[encoded data removed]",
      "text/plain": [
       "<Figure size 800x400 with 1 Axes>"
      ]
     },
     "metadata": {},
     "output_type": "display_data"
    },
    {
     "name": "stderr",
     "output_type": "stream",
     "text": [
      "c:\\Users\\admin\\Documents\\GIT Repositories\\b5w1-stock-market-challenge\\src\\text_time_series.py:220: FutureWarning: \n",
      "\n",
      "Passing `palette` without assigning `hue` is deprecated and will be removed in v0.14.0. Assign the `x` variable to `hue` and set `legend=False` for the same effect.\n",
      "\n",
      "  sns.countplot(\n",
      "c:\\Users\\admin\\Documents\\GIT Repositories\\b5w1-stock-market-challenge\\src\\text_time_series.py:226: UserWarning: Glyph 128198 (\\N{TEAR-OFF CALENDAR}) missing from font(s) DejaVu Sans.\n",
      "  plt.tight_layout()  # Adjust layout to prevent clipping\n",
      "c:\\Users\\admin\\Documents\\GIT Repositories\\b5w1-stock-market-challenge\\stock-market-challenge\\Lib\\site-packages\\IPython\\core\\pylabtools.py:170: UserWarning: Glyph 128198 (\\N{TEAR-OFF CALENDAR}) missing from font(s) DejaVu Sans.\n",
      "  fig.canvas.print_figure(bytes_io, **kw)\n"
     ]
    },
    {
     "data": {
      "image/png": "[encoded data removed]",
      "text/plain": [
       "<Figure size 800x400 with 1 Axes>"
      ]
     },
     "metadata": {},
     "output_type": "display_data"
    }
   ],
   "source": [
    "# ------------------------------------------------------------------------------\n",
    "# 🕒 Time Series Analysis – Publishing Frequency and Weekday Patterns (using cleaned dates)\n",
    "# ------------------------------------------------------------------------------\n",
    "\n",
    "from src.text_time_series import TimeSeriesTextAnalyzer\n",
    "\n",
    "try:\n",
    "    # Initialize the analyzer with the cleaned_date column (output of TimestampCleaner)\n",
    "    time_analyzer = TimeSeriesTextAnalyzer(\n",
    "        date_col=\"cleaned_date\",  # Use cleaned, timezone-normalized date column\n",
    "        verbose=True,\n",
    "    )\n",
    "\n",
    "    # Apply time-based feature engineering and visualization\n",
    "    df = time_analyzer.transform(df)  # Adds 'day_of_week' and 'hour_of_day' columns\n",
    "    time_analyzer.plot(df)  # Plots publishing frequency by day of week and hour of day\n",
    "\n",
    "except Exception as e:\n",
    "    print(f\"❌ Time series analysis failed: {e}\")"
   ]
  },
  {
   "cell_type": "code",
   "execution_count": 78,
   "id": "7879e35c",
   "metadata": {},
   "outputs": [
    {
     "data": {
      "application/vnd.microsoft.datawrangler.viewer.v0+json": {
       "columns": [
        {
         "name": "index",
         "rawType": "int64",
         "type": "integer"
        },
        {
         "name": "Unnamed: 0",
         "rawType": "int64",
         "type": "integer"
        },
        {
         "name": "headline",
         "rawType": "object",
         "type": "string"
        },
        {
         "name": "url",
         "rawType": "object",
         "type": "string"
        },
        {
         "name": "publisher",
         "rawType": "object",
         "type": "string"
        },
        {
         "name": "date",
         "rawType": "object",
         "type": "string"
        },
        {
         "name": "stock",
         "rawType": "object",
         "type": "string"
        },
        {
         "name": "cleaned_date",
         "rawType": "datetime64[ns]",
         "type": "datetime"
        },
        {
         "name": "cleaned_headline",
         "rawType": "object",
         "type": "string"
        },
        {
         "name": "headline_length",
         "rawType": "int64",
         "type": "integer"
        },
        {
         "name": "word_count",
         "rawType": "int64",
         "type": "integer"
        },
        {
         "name": "publisher_domain",
         "rawType": "object",
         "type": "string"
        },
        {
         "name": "date_only",
         "rawType": "object",
         "type": "unknown"
        },
        {
         "name": "hour",
         "rawType": "int32",
         "type": "integer"
        },
        {
         "name": "day_of_week",
         "rawType": "object",
         "type": "string"
        },
        {
         "name": "is_weekend",
         "rawType": "bool",
         "type": "boolean"
        }
       ],
       "ref": "09859b9d-ca8d-459a-8670-3c33fe26ee54",
       "rows": [
        [
         "0",
         "0",
         "Stocks That Hit 52-Week Highs On Friday",
         "https://www.benzinga.com/news/20/06/16190091/stocks-that-hit-52-week-highs-on-friday",
         "Benzinga Insights",
         "2020-06-05 10:30:54-04:00",
         "A",
         "2020-06-05 00:00:00",
         "stocks hit 52week highs friday",
         "39",
         "7",
         "benzinga.com",
         "2020-06-04",
         "20",
         "Thursday",
         "False"
        ],
        [
         "1",
         "1",
         "Stocks That Hit 52-Week Highs On Wednesday",
         "https://www.benzinga.com/news/20/06/16170189/stocks-that-hit-52-week-highs-on-wednesday",
         "Benzinga Insights",
         "2020-06-03 10:45:20-04:00",
         "A",
         "2020-06-03 00:00:00",
         "stocks hit 52week highs wednesday",
         "42",
         "7",
         "benzinga.com",
         "2020-06-02",
         "20",
         "Tuesday",
         "False"
        ],
        [
         "2",
         "2",
         "71 Biggest Movers From Friday",
         "https://www.benzinga.com/news/20/05/16103463/71-biggest-movers-from-friday",
         "Lisa Levin",
         "2020-05-26 04:30:07-04:00",
         "A",
         "2020-05-26 00:00:00",
         "71 biggest movers friday",
         "29",
         "5",
         "benzinga.com",
         "2020-05-25",
         "20",
         "Monday",
         "False"
        ],
        [
         "3",
         "3",
         "46 Stocks Moving In Friday's Mid-Day Session",
         "https://www.benzinga.com/news/20/05/16095921/46-stocks-moving-in-fridays-mid-day-session",
         "Lisa Levin",
         "2020-05-22 12:45:06-04:00",
         "A",
         "2020-05-22 00:00:00",
         "46 stocks moving fridays midday session",
         "44",
         "8",
         "benzinga.com",
         "2020-05-21",
         "20",
         "Thursday",
         "False"
        ],
        [
         "4",
         "4",
         "B of A Securities Maintains Neutral on Agilent Technologies, Raises Price Target to $88",
         "https://www.benzinga.com/news/20/05/16095304/b-of-a-securities-maintains-neutral-on-agilent-technologies-raises-price-target-to-88",
         "Vick Meyer",
         "2020-05-22 11:38:59-04:00",
         "A",
         "2020-05-22 00:00:00",
         "b securities maintains neutral agilent technologies raises price target 88",
         "87",
         "16",
         "benzinga.com",
         "2020-05-21",
         "20",
         "Thursday",
         "False"
        ],
        [
         "5",
         "5",
         "CFRA Maintains Hold on Agilent Technologies, Lowers Price Target to $85",
         "https://www.benzinga.com/news/20/05/16095163/cfra-maintains-hold-on-agilent-technologies-lowers-price-target-to-85",
         "vishwanath@benzinga.com",
         "2020-05-22 11:23:25-04:00",
         "A",
         "2020-05-22 00:00:00",
         "cfra maintains hold agilent technologies lowers price target 85",
         "71",
         "13",
         "benzinga.com",
         "2020-05-21",
         "20",
         "Thursday",
         "False"
        ],
        [
         "6",
         "6",
         "UBS Maintains Neutral on Agilent Technologies, Raises Price Target to $87",
         "https://www.benzinga.com/news/20/05/16094027/ubs-maintains-neutral-on-agilent-technologies-raises-price-target-to-87",
         "vishwanath@benzinga.com",
         "2020-05-22 09:36:20-04:00",
         "A",
         "2020-05-22 00:00:00",
         "ubs maintains neutral agilent technologies raises price target 87",
         "73",
         "13",
         "benzinga.com",
         "2020-05-21",
         "20",
         "Thursday",
         "False"
        ],
        [
         "7",
         "7",
         "Agilent Technologies shares are trading higher after the company reported better-than-expected Q2 EPS and sales results.",
         "https://www.benzinga.com/wiim/20/05/16093805/agilent-technologies-shares-are-trading-higher-after-the-company-reported-better-than-expected-q2-ep",
         "Benzinga Newsdesk",
         "2020-05-22 09:07:04-04:00",
         "A",
         "2020-05-22 00:00:00",
         "agilent technologies shares trading higher company reported betterthanexpected q2 eps sales results",
         "120",
         "17",
         "benzinga.com",
         "2020-05-21",
         "20",
         "Thursday",
         "False"
        ],
        [
         "8",
         "8",
         "Wells Fargo Maintains Overweight on Agilent Technologies, Raises Price Target to $95",
         "https://www.benzinga.com/news/20/05/16093505/wells-fargo-maintains-overweight-on-agilent-technologies-raises-price-target-to-95",
         "vishwanath@benzinga.com",
         "2020-05-22 08:37:59-04:00",
         "A",
         "2020-05-22 00:00:00",
         "wells fargo maintains overweight agilent technologies raises price target 95",
         "84",
         "14",
         "benzinga.com",
         "2020-05-21",
         "20",
         "Thursday",
         "False"
        ],
        [
         "9",
         "9",
         "10 Biggest Price Target Changes For Friday",
         "https://www.benzinga.com/analyst-ratings/price-target/20/05/16093262/10-biggest-price-target-changes-for-friday",
         "Lisa Levin",
         "2020-05-22 08:06:17-04:00",
         "A",
         "2020-05-22 00:00:00",
         "10 biggest price target changes friday",
         "42",
         "7",
         "benzinga.com",
         "2020-05-21",
         "20",
         "Thursday",
         "False"
        ],
        [
         "10",
         "10",
         "30 Stocks Moving in Friday's Pre-Market Session",
         "https://www.benzinga.com/news/20/05/16092879/30-stocks-moving-in-fridays-pre-market-session",
         "Lisa Levin",
         "2020-05-22 00:00:00",
         "A",
         "2020-05-22 00:00:00",
         "30 stocks moving fridays premarket session",
         "47",
         "8",
         "benzinga.com",
         "2020-05-21",
         "20",
         "Thursday",
         "False"
        ],
        [
         "11",
         "11",
         "SVB Leerink Maintains Outperform on Agilent Technologies, Raises Price Target to $95",
         "https://www.benzinga.com/news/20/05/16092270/svb-leerink-maintains-outperform-on-agilent-technologies-raises-price-target-to-95",
         "vishwanath@benzinga.com",
         "2020-05-22 00:00:00",
         "A",
         "2020-05-22 00:00:00",
         "svb leerink maintains outperform agilent technologies raises price target 95",
         "84",
         "14",
         "benzinga.com",
         "2020-05-21",
         "20",
         "Thursday",
         "False"
        ],
        [
         "12",
         "12",
         "8 Stocks Moving In Thursday's After-Hours Session",
         "https://www.benzinga.com/news/20/05/16089803/8-stocks-moving-in-thursdays-after-hours-session",
         "Tyree Gorges",
         "2020-05-21 00:00:00",
         "A",
         "2020-05-21 00:00:00",
         "8 stocks moving thursdays afterhours session",
         "49",
         "8",
         "benzinga.com",
         "2020-05-20",
         "20",
         "Wednesday",
         "False"
        ],
        [
         "13",
         "13",
         "Agilent Technologies shares are trading higher after the company reported better-than-expected Q2 EPS and sales results.",
         "https://www.benzinga.com/wiim/20/05/16089218/agilent-technologies-shares-are-trading-higher-after-the-company-reported-better-than-expected-q2-ep",
         "Benzinga Newsdesk",
         "2020-05-21 00:00:00",
         "A",
         "2020-05-21 00:00:00",
         "agilent technologies shares trading higher company reported betterthanexpected q2 eps sales results",
         "120",
         "17",
         "benzinga.com",
         "2020-05-20",
         "20",
         "Wednesday",
         "False"
        ],
        [
         "14",
         "14",
         "Agilent Technologies Q2 Adj. EPS $0.71 Beats $0.61 Estimate, Sales $1.24B Beat $1.21B Estimate",
         "https://www.benzinga.com/news/earnings/20/05/16088886/agilent-technologies-q2-adj-eps-0-71-beats-0-61-estimate-sales-1-24b-beat-1-21b-estimate",
         "Benzinga Newsdesk",
         "2020-05-21 00:00:00",
         "A",
         "2020-05-21 00:00:00",
         "agilent technologies q2 adj eps 071 beats 061 estimate sales 124b beat 121b estimate",
         "94",
         "20",
         "benzinga.com",
         "2020-05-20",
         "20",
         "Wednesday",
         "False"
        ],
        [
         "15",
         "15",
         "Earnings Scheduled For May 21, 2020",
         "https://www.benzinga.com/news/earnings/20/05/16082427/earnings-scheduled-for-may-21-2020",
         "Lisa Levin",
         "2020-05-21 00:00:00",
         "A",
         "2020-05-21 00:00:00",
         "earnings scheduled may 21 2020",
         "35",
         "7",
         "benzinga.com",
         "2020-05-20",
         "20",
         "Wednesday",
         "False"
        ],
        [
         "16",
         "16",
         "Agilent Technologies Receives FDA Approval for PD-L1 as a Companion Diagnostic",
         "https://www.benzinga.com/news/20/05/16054223/agilent-technologies-receives-fda-approval-for-pd-l1-as-a-companion-diagnostic",
         "Luke J Jacobi",
         "2020-05-18 00:00:00",
         "A",
         "2020-05-18 00:00:00",
         "agilent technologies receives fda approval pdl1 companion diagnostic",
         "78",
         "11",
         "benzinga.com",
         "2020-05-17",
         "20",
         "Sunday",
         "True"
        ],
        [
         "17",
         "17",
         "Q1 13F Roundup: How Buffett, Einhorn, Ackman And Others Adjusted Their Portfolios",
         "https://www.benzinga.com/news/20/05/16051311/q1-13f-roundup-how-buffett-einhorn-ackman-and-others-adjusted-their-portfolios",
         "Wayne Duggan",
         "2020-05-16 00:00:00",
         "A",
         "2020-05-16 00:00:00",
         "q1 13f roundup buffett einhorn ackman others adjusted portfolios",
         "81",
         "15",
         "benzinga.com",
         "2020-05-15",
         "20",
         "Friday",
         "False"
        ],
        [
         "18",
         "18",
         "Pershing Square 13F Shows Fund Raises Stake In Agilent Technologies To 12,626,593 Shares",
         "https://www.benzinga.com/general/hedge-funds/20/05/16048806/pershing-square-13f-shows-fund-raises-stake-in-agilent-technologies-to-12-626-593-shares",
         "Benzinga Newsdesk",
         "2020-05-15 00:00:00",
         "A",
         "2020-05-15 00:00:00",
         "pershing square 13f shows fund raises stake agilent technologies 12626593 shares",
         "88",
         "13",
         "benzinga.com",
         "2020-05-14",
         "20",
         "Thursday",
         "False"
        ],
        [
         "19",
         "19",
         "How Bill Ackman Successfully Navigated Coronavirus Market Volatility",
         "https://www.benzinga.com/general/education/20/05/15979110/how-bill-ackman-successfully-navigated-coronavirus-market-volatility",
         "Wayne Duggan",
         "2020-05-08 00:00:00",
         "A",
         "2020-05-08 00:00:00",
         "bill ackman successfully navigated coronavirus market volatility",
         "68",
         "8",
         "benzinga.com",
         "2020-05-07",
         "20",
         "Thursday",
         "False"
        ],
        [
         "20",
         "20",
         "Shares of several healthcare companies are trading higher amid positive investor sentiment as some US states begin to reopen their economies and as oil prices gain for the session.",
         "https://www.benzinga.com/wiim/20/05/15957697/shares-of-several-healthcare-companies-are-trading-higher-amid-positive-investor-sentiment-as-some-u",
         "Benzinga Newsdesk",
         "2020-05-05 00:00:00",
         "A",
         "2020-05-05 00:00:00",
         "shares several healthcare companies trading higher amid positive investor sentiment us states begin reopen economies oil prices gain session",
         "180",
         "30",
         "benzinga.com",
         "2020-05-04",
         "20",
         "Monday",
         "False"
        ],
        [
         "21",
         "21",
         "Shares of several healthcare companies are trading lower as markets dip following recent strength. Markets have sold off as investors weigh recent earnings and amid concerns of renewed US-China trade frictions.",
         "https://www.benzinga.com/20/05/15935673/shares-of-several-healthcare-companies-are-trading-lower-as-markets-dip-following-recent-strength-ma",
         "Benzinga Newsdesk",
         "2020-05-01 00:00:00",
         "A",
         "2020-05-01 00:00:00",
         "shares several healthcare companies trading lower markets dip following recent strength markets sold investors weigh recent earnings amid concerns renewed uschina trade frictions",
         "210",
         "33",
         "benzinga.com",
         "2020-04-30",
         "20",
         "Thursday",
         "False"
        ],
        [
         "22",
         "22",
         "UBS Maintains Neutral on Agilent Technologies, Lowers Price Target to $84",
         "https://www.benzinga.com/news/20/04/15897306/ubs-maintains-neutral-on-agilent-technologies-lowers-price-target-to-84",
         "vishwanath@benzinga.com",
         "2020-04-28 00:00:00",
         "A",
         "2020-04-28 00:00:00",
         "ubs maintains neutral agilent technologies lowers price target 84",
         "73",
         "13",
         "benzinga.com",
         "2020-04-27",
         "20",
         "Monday",
         "False"
        ],
        [
         "23",
         "23",
         "Agilent Reports FDA Approval For PD-L1 Companion Diagnostic On Dako Omni",
         "https://www.benzinga.com/news/20/04/15864339/agilent-reports-fda-approval-for-pd-l1-companion-diagnostic-on-dako-omni",
         "Benzinga Newsdesk",
         "2020-04-23 00:00:00",
         "A",
         "2020-04-23 00:00:00",
         "agilent reports fda approval pdl1 companion diagnostic dako omni",
         "72",
         "11",
         "benzinga.com",
         "2020-04-22",
         "20",
         "Wednesday",
         "False"
        ],
        [
         "24",
         "24",
         "Agilent Reports Has Become Top-Level Sponsor Of My Green Lab",
         "https://www.benzinga.com/news/20/04/15855436/agilent-reports-has-become-top-level-sponsor-of-my-green-lab",
         "Benzinga Newsdesk",
         "2020-04-22 00:00:00",
         "A",
         "2020-04-22 00:00:00",
         "agilent reports become toplevel sponsor green lab",
         "60",
         "10",
         "benzinga.com",
         "2020-04-21",
         "20",
         "Tuesday",
         "False"
        ],
        [
         "25",
         "25",
         "Agilent Withdraws Q2 And FY20 Guidance",
         "https://www.benzinga.com/news/20/04/15796369/agilent-withdraws-q2-and-fy20-guidance",
         "Benzinga Newsdesk",
         "2020-04-14 00:00:00",
         "A",
         "2020-04-14 00:00:00",
         "agilent withdraws q2 fy20 guidance",
         "38",
         "6",
         "benzinga.com",
         "2020-04-13",
         "20",
         "Monday",
         "False"
        ],
        [
         "26",
         "26",
         "Shares of several companies in the auto dealer space are trading higher amid positive market sentiment. Speculation some coronavirus hotspots leveling off has raised hopes of a return to economic activity, which could mean a rebound in consumer spending.",
         "https://www.benzinga.com/wiim/20/04/15769071/shares-of-several-companies-in-the-auto-dealer-space-are-trading-higher-amid-positive-market-sentime",
         "Benzinga Newsdesk",
         "2020-04-08 00:00:00",
         "A",
         "2020-04-08 00:00:00",
         "shares several companies auto dealer space trading higher amid positive market sentiment speculation coronavirus hotspots leveling raised hopes return economic activity could mean rebound consumer spending",
         "254",
         "42",
         "benzinga.com",
         "2020-04-07",
         "20",
         "Tuesday",
         "False"
        ],
        [
         "27",
         "27",
         "Shares of several healthcare companies are trading higher as markets gain amid optimism that coronavirus cases in several US hotspots may be peaking. A sooner peak could mean a sooner return to economic activity.",
         "https://www.benzinga.com/wiim/20/04/15748126/shares-of-several-healthcare-companies-are-trading-higher-as-markets-gain-amid-optimism-that-coronav",
         "Benzinga Newsdesk",
         "2020-04-06 00:00:00",
         "A",
         "2020-04-06 00:00:00",
         "shares several healthcare companies trading higher markets gain amid optimism coronavirus cases several us hotspots may peaking sooner peak could mean sooner return economic activity",
         "212",
         "36",
         "benzinga.com",
         "2020-04-05",
         "20",
         "Sunday",
         "True"
        ],
        [
         "28",
         "28",
         "Stifel Maintains Hold on Agilent Technologies, Lowers Price Target to $73",
         "https://www.benzinga.com/news/20/04/15728603/stifel-maintains-hold-on-agilent-technologies-lowers-price-target-to-73",
         "Vick Meyer",
         "2020-04-02 00:00:00",
         "A",
         "2020-04-02 00:00:00",
         "stifel maintains hold agilent technologies lowers price target 73",
         "73",
         "13",
         "benzinga.com",
         "2020-04-01",
         "20",
         "Wednesday",
         "False"
        ],
        [
         "29",
         "29",
         "Shares of several healthcare companies are trading lower amid market weakness as growing coronavirus concerns in the US weigh on equities.",
         "https://www.benzinga.com/wiim/20/04/15717065/shares-of-several-healthcare-companies-are-trading-lower-amid-market-weakness-as-growing-coronavirus",
         "Benzinga Newsdesk",
         "2020-04-01 00:00:00",
         "A",
         "2020-04-01 00:00:00",
         "shares several healthcare companies trading lower amid market weakness growing coronavirus concerns us weigh equities",
         "138",
         "22",
         "benzinga.com",
         "2020-03-31",
         "20",
         "Tuesday",
         "False"
        ],
        [
         "30",
         "30",
         "Int'l. Air Transport Authority Chief Economist Sees Consolidation In Airline Sector As Some Airlines Fail, Calls Signs In Chinese Domestic Market 'Encouraging,' Load Factors Are About 60%",
         "https://www.benzinga.com/news/20/03/15705690/intl-air-transport-authority-chief-economist-sees-consolidation-in-airline-sector-as-some-airlines-f",
         "Benzinga Newsdesk",
         "2020-03-31 00:00:00",
         "A",
         "2020-03-31 00:00:00",
         "intl air transport authority chief economist sees consolidation airline sector airlines fail calls signs chinese domestic market encouraging load factors 60",
         "187",
         "34",
         "benzinga.com",
         "2020-03-30",
         "20",
         "Monday",
         "False"
        ],
        [
         "31",
         "31",
         "Wells Fargo Maintains Overweight on Agilent Technologies, Lowers Price Target to $82",
         "https://www.benzinga.com/news/20/03/15695415/wells-fargo-maintains-overweight-on-agilent-technologies-lowers-price-target-to-82",
         "Vick Meyer",
         "2020-03-30 00:00:00",
         "A",
         "2020-03-30 00:00:00",
         "wells fargo maintains overweight agilent technologies lowers price target 82",
         "84",
         "14",
         "benzinga.com",
         "2020-03-29",
         "20",
         "Sunday",
         "True"
        ],
        [
         "32",
         "32",
         "Shares of several technology companies are trading higher as equities continue to rise following last week's rebound amid US stimulus measures.",
         "https://www.benzinga.com/wiim/20/03/15695372/shares-of-several-technology-companies-are-trading-higher-as-equities-continue-to-rise-following-las",
         "Benzinga Newsdesk",
         "2020-03-30 00:00:00",
         "A",
         "2020-03-30 00:00:00",
         "shares several technology companies trading higher equities continue rise following last weeks rebound amid us stimulus measures",
         "143",
         "23",
         "benzinga.com",
         "2020-03-29",
         "20",
         "Sunday",
         "True"
        ],
        [
         "33",
         "33",
         "Shares of several healthcare companies are trading lower, selling off from this week's strength. While the US stimulus package boosted economic optimism, demand concerns still exist amid the coronavirus outbreak.",
         "https://www.benzinga.com/wiim/20/03/15683827/shares-of-several-healthcare-companies-are-trading-lower-selling-off-from-this-weeks-strength-while",
         "Benzinga Newsdesk",
         "2020-03-27 00:00:00",
         "A",
         "2020-03-27 00:00:00",
         "shares several healthcare companies trading lower selling weeks strength us stimulus package boosted economic optimism demand concerns still exist amid coronavirus outbreak",
         "212",
         "35",
         "benzinga.com",
         "2020-03-26",
         "20",
         "Thursday",
         "False"
        ],
        [
         "34",
         "34",
         "Shares of several healthcare companies are trading higher following Senate passage of a $2 trillion economic stimulus package, which has lifted stocks across sectors.",
         "https://www.benzinga.com/wiim/20/03/15674560/shares-of-several-healthcare-companies-are-trading-higher-following-senate-passage-of-a-2-trillion-e",
         "Benzinga Newsdesk",
         "2020-03-26 00:00:00",
         "A",
         "2020-03-26 00:00:00",
         "shares several healthcare companies trading higher following senate passage 2 trillion economic stimulus package lifted stocks across sectors",
         "166",
         "27",
         "benzinga.com",
         "2020-03-25",
         "20",
         "Wednesday",
         "False"
        ],
        [
         "35",
         "35",
         "Barclays Maintains Equal-Weight on Agilent Technologies, Lowers Price Target to $76",
         "https://www.benzinga.com/news/20/03/15673665/barclays-maintains-equal-weight-on-agilent-technologies-lowers-price-target-to-76",
         "Vick Meyer",
         "2020-03-26 00:00:00",
         "A",
         "2020-03-26 00:00:00",
         "barclays maintains equalweight agilent technologies lowers price target 76",
         "83",
         "13",
         "benzinga.com",
         "2020-03-25",
         "20",
         "Wednesday",
         "False"
        ],
        [
         "36",
         "36",
         "Ariel Chairman John Rogers Thinks Current Market Is 'Once In A Lifetime Opportunity To Buy Stocks'",
         "https://www.benzinga.com/news/20/03/15668620/ariel-chairman-john-rogers-thinks-current-market-is-once-in-a-lifetime-opportunity-to-buy-stocks",
         "Shivdeep Dhaliwal",
         "2020-03-26 00:00:00",
         "A",
         "2020-03-26 00:00:00",
         "ariel chairman john rogers thinks current market lifetime opportunity buy stocks",
         "98",
         "17",
         "benzinga.com",
         "2020-03-25",
         "20",
         "Wednesday",
         "False"
        ],
        [
         "37",
         "37",
         "Citigroup Maintains Neutral on Agilent Technologies, Lowers Price Target to $75",
         "https://www.benzinga.com/news/20/03/15615851/citigroup-maintains-neutral-on-agilent-technologies-lowers-price-target-to-75",
         "Vick Meyer",
         "2020-03-20 00:00:00",
         "A",
         "2020-03-20 00:00:00",
         "citigroup maintains neutral agilent technologies lowers price target 75",
         "79",
         "13",
         "benzinga.com",
         "2020-03-19",
         "20",
         "Thursday",
         "False"
        ],
        [
         "38",
         "38",
         "Stocks That Hit 52-Week Lows On Monday",
         "https://www.benzinga.com/news/20/03/15560273/stocks-that-hit-52-week-lows-on-monday",
         "Benzinga Newsdesk",
         "2020-03-16 00:00:00",
         "A",
         "2020-03-16 00:00:00",
         "stocks hit 52week lows monday",
         "38",
         "7",
         "benzinga.com",
         "2020-03-15",
         "20",
         "Sunday",
         "True"
        ],
        [
         "39",
         "39",
         "Shares of several healthcare companies are trading lower in sympathy with the overall market on continued downward momentum caused by the coronavirus. The virus has had a negative impact on the global economy.",
         "https://www.benzinga.com/wiim/20/03/15558425/shares-of-several-healthcare-companies-are-trading-lower-in-sympathy-with-the-overall-market-on-cont",
         "Benzinga Newsdesk",
         "2020-03-16 00:00:00",
         "A",
         "2020-03-16 00:00:00",
         "shares several healthcare companies trading lower sympathy overall market continued downward momentum caused coronavirus virus negative impact global economy",
         "209",
         "35",
         "benzinga.com",
         "2020-03-15",
         "20",
         "Sunday",
         "True"
        ],
        [
         "40",
         "40",
         "Shares of several basic materials companies are trading higher, rebounding following Thursday's crash. The sector has been volatile amid the coronavirus outbreak, which has disrupted economic activity. NOTE: While markets rebound, virus fears persist.",
         "https://www.benzinga.com/wiim/20/03/15546085/shares-of-several-basic-materials-companies-are-trading-higher-rebounding-following-thursdays-crash",
         "Benzinga Newsdesk",
         "2020-03-13 00:00:00",
         "A",
         "2020-03-13 00:00:00",
         "shares several basic materials companies trading higher rebounding following thursdays crash sector volatile amid coronavirus outbreak disrupted economic activity note markets rebound virus fears persist",
         "251",
         "42",
         "benzinga.com",
         "2020-03-12",
         "20",
         "Thursday",
         "False"
        ],
        [
         "41",
         "41",
         "Stocks That Hit 52-Week Lows On Thursday",
         "https://www.benzinga.com/news/20/03/15538835/stocks-that-hit-52-week-lows-on-thursday",
         "Lisa Levin",
         "2020-03-12 00:00:00",
         "A",
         "2020-03-12 00:00:00",
         "stocks hit 52week lows thursday",
         "40",
         "7",
         "benzinga.com",
         "2020-03-11",
         "20",
         "Wednesday",
         "False"
        ],
        [
         "42",
         "42",
         "Shares of several coronavirus-related companies including vaccine makers, protective apparel manufacturers and emergency medical suppliers are trading higher as the coronavirus continues to spread globally.",
         "https://www.benzinga.com/wiim/20/03/15528213/shares-of-several-coronavirus-related-companies-including-vaccine-makers-protective-apparel-manufact",
         "luke@benzinga.com",
         "2020-03-11 00:00:00",
         "A",
         "2020-03-11 00:00:00",
         "shares several coronavirusrelated companies including vaccine makers protective apparel manufacturers emergency medical suppliers trading higher coronavirus continues spread globally",
         "206",
         "27",
         "benzinga.com",
         "2020-03-10",
         "20",
         "Tuesday",
         "False"
        ],
        [
         "43",
         "43",
         "Agilent Technologies Inc Says In January 2020, Net Revenue Was Negatively Impacted Due To The Public Health Crisis In China; Says In Jan 2020, Net Revenue Negatively Impacted Also Due To Extension Of Lunar New Year Resulting In Fewer Selling Days In Month",
         "https://www.benzinga.com/news/20/03/15472189/agilent-technologies-inc-says-in-january-2020-net-revenue-was-negatively-impacted-due-to-the-public",
         "luke@benzinga.com",
         "2020-03-03 00:00:00",
         "A",
         "2020-03-03 00:00:00",
         "agilent technologies inc says january 2020 net revenue negatively impacted due public health crisis china says jan 2020 net revenue negatively impacted also due extension lunar new year resulting fewer selling days month",
         "255",
         "46",
         "benzinga.com",
         "2020-03-02",
         "19",
         "Monday",
         "False"
        ],
        [
         "44",
         "44",
         "Shares of several healthcare companies are trading higher in sympathy with the overall market as it rebounds from a selloff caused by coronavirus fears.",
         "https://www.benzinga.com/wiim/20/03/15456786/shares-of-several-healthcare-companies-are-trading-higher-in-sympathy-with-the-overall-market-as-it",
         "Benzinga Newsdesk",
         "2020-03-02 00:00:00",
         "A",
         "2020-03-02 00:00:00",
         "shares several healthcare companies trading higher sympathy overall market rebounds selloff caused coronavirus fears",
         "152",
         "25",
         "benzinga.com",
         "2020-03-01",
         "19",
         "Sunday",
         "True"
        ],
        [
         "45",
         "45",
         "Benzinga's Top Upgrades, Downgrades For February 24, 2020",
         "https://www.benzinga.com/analyst-ratings/upgrades/20/02/15393664/benzingas-top-upgrades-downgrades-for-february-24-2020",
         "Lisa Levin",
         "2020-02-24 00:00:00",
         "A",
         "2020-02-24 00:00:00",
         "benzingas top upgrades downgrades february 24 2020",
         "57",
         "11",
         "benzinga.com",
         "2020-02-23",
         "19",
         "Sunday",
         "True"
        ],
        [
         "46",
         "46",
         "Shares of several software companies are trading lower as the coronavirus cases surge outside of China. NOTE: The virus has raised fear of a global economic slowdown.",
         "https://www.benzinga.com/wiim/20/02/15392140/shares-of-several-software-companies-are-trading-lower-as-the-coronavirus-cases-surge-outside-of-chi",
         "Benzinga Newsdesk",
         "2020-02-24 00:00:00",
         "A",
         "2020-02-24 00:00:00",
         "shares several software companies trading lower coronavirus cases surge outside china note virus raised fear global economic slowdown",
         "166",
         "30",
         "benzinga.com",
         "2020-02-23",
         "19",
         "Sunday",
         "True"
        ],
        [
         "47",
         "47",
         "Needham Downgrades Agilent Technologies to Hold, Announces $85 Price Target",
         "https://www.benzinga.com/news/20/02/15391251/needham-downgrades-agilent-technologies-to-hold-announces-85-price-target",
         "Vick Meyer",
         "2020-02-24 00:00:00",
         "A",
         "2020-02-24 00:00:00",
         "needham downgrades agilent technologies hold announces 85 price target",
         "75",
         "12",
         "benzinga.com",
         "2020-02-23",
         "19",
         "Sunday",
         "True"
        ],
        [
         "48",
         "48",
         "UBS Maintains Neutral on Agilent Technologies, Raises Price Target to $90",
         "https://www.benzinga.com/news/20/02/15363071/ubs-maintains-neutral-on-agilent-technologies-raises-price-target-to-90",
         "Vick Meyer",
         "2020-02-19 00:00:00",
         "A",
         "2020-02-19 00:00:00",
         "ubs maintains neutral agilent technologies raises price target 90",
         "73",
         "13",
         "benzinga.com",
         "2020-02-18",
         "19",
         "Tuesday",
         "False"
        ],
        [
         "49",
         "49",
         "12 Stocks Moving In Tuesday's After-Hours Session",
         "https://www.benzinga.com/news/20/02/15359453/12-stocks-moving-in-tuesdays-after-hours-session",
         "Tyree Gorges",
         "2020-02-18 00:00:00",
         "A",
         "2020-02-18 00:00:00",
         "12 stocks moving tuesdays afterhours session",
         "49",
         "8",
         "benzinga.com",
         "2020-02-17",
         "19",
         "Monday",
         "False"
        ]
       ],
       "shape": {
        "columns": 15,
        "rows": 1407328
       }
      },
      "text/html": [
       "<div>\n",
       "<style scoped>\n",
       "    .dataframe tbody tr th:only-of-type {\n",
       "        vertical-align: middle;\n",
       "    }\n",
       "\n",
       "    .dataframe tbody tr th {\n",
       "        vertical-align: top;\n",
       "    }\n",
       "\n",
       "    .dataframe thead th {\n",
       "        text-align: right;\n",
       "    }\n",
       "</style>\n",
       "<table border=\"1\" class=\"dataframe\">\n",
       "  <thead>\n",
       "    <tr style=\"text-align: right;\">\n",
       "      <th></th>\n",
       "      <th>Unnamed: 0</th>\n",
       "      <th>headline</th>\n",
       "      <th>url</th>\n",
       "      <th>publisher</th>\n",
       "      <th>date</th>\n",
       "      <th>stock</th>\n",
       "      <th>cleaned_date</th>\n",
       "      <th>cleaned_headline</th>\n",
       "      <th>headline_length</th>\n",
       "      <th>word_count</th>\n",
       "      <th>publisher_domain</th>\n",
       "      <th>date_only</th>\n",
       "      <th>hour</th>\n",
       "      <th>day_of_week</th>\n",
       "      <th>is_weekend</th>\n",
       "    </tr>\n",
       "  </thead>\n",
       "  <tbody>\n",
       "    <tr>\n",
       "      <th>0</th>\n",
       "      <td>0</td>\n",
       "      <td>Stocks That Hit 52-Week Highs On Friday</td>\n",
       "      <td>https://www.benzinga.com/news/20/06/16190091/s...</td>\n",
       "      <td>Benzinga Insights</td>\n",
       "      <td>2020-06-05 10:30:54-04:00</td>\n",
       "      <td>A</td>\n",
       "      <td>2020-06-05</td>\n",
       "      <td>stocks hit 52week highs friday</td>\n",
       "      <td>39</td>\n",
       "      <td>7</td>\n",
       "      <td>benzinga.com</td>\n",
       "      <td>2020-06-04</td>\n",
       "      <td>20</td>\n",
       "      <td>Thursday</td>\n",
       "      <td>False</td>\n",
       "    </tr>\n",
       "    <tr>\n",
       "      <th>1</th>\n",
       "      <td>1</td>\n",
       "      <td>Stocks That Hit 52-Week Highs On Wednesday</td>\n",
       "      <td>https://www.benzinga.com/news/20/06/16170189/s...</td>\n",
       "      <td>Benzinga Insights</td>\n",
       "      <td>2020-06-03 10:45:20-04:00</td>\n",
       "      <td>A</td>\n",
       "      <td>2020-06-03</td>\n",
       "      <td>stocks hit 52week highs wednesday</td>\n",
       "      <td>42</td>\n",
       "      <td>7</td>\n",
       "      <td>benzinga.com</td>\n",
       "      <td>2020-06-02</td>\n",
       "      <td>20</td>\n",
       "      <td>Tuesday</td>\n",
       "      <td>False</td>\n",
       "    </tr>\n",
       "    <tr>\n",
       "      <th>2</th>\n",
       "      <td>2</td>\n",
       "      <td>71 Biggest Movers From Friday</td>\n",
       "      <td>https://www.benzinga.com/news/20/05/16103463/7...</td>\n",
       "      <td>Lisa Levin</td>\n",
       "      <td>2020-05-26 04:30:07-04:00</td>\n",
       "      <td>A</td>\n",
       "      <td>2020-05-26</td>\n",
       "      <td>71 biggest movers friday</td>\n",
       "      <td>29</td>\n",
       "      <td>5</td>\n",
       "      <td>benzinga.com</td>\n",
       "      <td>2020-05-25</td>\n",
       "      <td>20</td>\n",
       "      <td>Monday</td>\n",
       "      <td>False</td>\n",
       "    </tr>\n",
       "    <tr>\n",
       "      <th>3</th>\n",
       "      <td>3</td>\n",
       "      <td>46 Stocks Moving In Friday's Mid-Day Session</td>\n",
       "      <td>https://www.benzinga.com/news/20/05/16095921/4...</td>\n",
       "      <td>Lisa Levin</td>\n",
       "      <td>2020-05-22 12:45:06-04:00</td>\n",
       "      <td>A</td>\n",
       "      <td>2020-05-22</td>\n",
       "      <td>46 stocks moving fridays midday session</td>\n",
       "      <td>44</td>\n",
       "      <td>8</td>\n",
       "      <td>benzinga.com</td>\n",
       "      <td>2020-05-21</td>\n",
       "      <td>20</td>\n",
       "      <td>Thursday</td>\n",
       "      <td>False</td>\n",
       "    </tr>\n",
       "    <tr>\n",
       "      <th>4</th>\n",
       "      <td>4</td>\n",
       "      <td>B of A Securities Maintains Neutral on Agilent...</td>\n",
       "      <td>https://www.benzinga.com/news/20/05/16095304/b...</td>\n",
       "      <td>Vick Meyer</td>\n",
       "      <td>2020-05-22 11:38:59-04:00</td>\n",
       "      <td>A</td>\n",
       "      <td>2020-05-22</td>\n",
       "      <td>b securities maintains neutral agilent technol...</td>\n",
       "      <td>87</td>\n",
       "      <td>16</td>\n",
       "      <td>benzinga.com</td>\n",
       "      <td>2020-05-21</td>\n",
       "      <td>20</td>\n",
       "      <td>Thursday</td>\n",
       "      <td>False</td>\n",
       "    </tr>\n",
       "    <tr>\n",
       "      <th>...</th>\n",
       "      <td>...</td>\n",
       "      <td>...</td>\n",
       "      <td>...</td>\n",
       "      <td>...</td>\n",
       "      <td>...</td>\n",
       "      <td>...</td>\n",
       "      <td>...</td>\n",
       "      <td>...</td>\n",
       "      <td>...</td>\n",
       "      <td>...</td>\n",
       "      <td>...</td>\n",
       "      <td>...</td>\n",
       "      <td>...</td>\n",
       "      <td>...</td>\n",
       "      <td>...</td>\n",
       "    </tr>\n",
       "    <tr>\n",
       "      <th>1407323</th>\n",
       "      <td>1413844</td>\n",
       "      <td>Top Narrow Based Indexes For August 29</td>\n",
       "      <td>https://www.benzinga.com/news/11/08/1888782/to...</td>\n",
       "      <td>Monica Gerson</td>\n",
       "      <td>2011-08-29 00:00:00</td>\n",
       "      <td>ZX</td>\n",
       "      <td>2011-08-29</td>\n",
       "      <td>top narrow based indexes august 29</td>\n",
       "      <td>38</td>\n",
       "      <td>7</td>\n",
       "      <td>benzinga.com</td>\n",
       "      <td>2011-08-28</td>\n",
       "      <td>20</td>\n",
       "      <td>Sunday</td>\n",
       "      <td>True</td>\n",
       "    </tr>\n",
       "    <tr>\n",
       "      <th>1407324</th>\n",
       "      <td>1413845</td>\n",
       "      <td>Recap: Wednesday's Top Percentage Gainers and ...</td>\n",
       "      <td>https://www.benzinga.com/news/earnings/11/06/1...</td>\n",
       "      <td>Benjamin Lee</td>\n",
       "      <td>2011-06-22 00:00:00</td>\n",
       "      <td>ZX</td>\n",
       "      <td>2011-06-22</td>\n",
       "      <td>recap wednesdays top percentage gainers losers</td>\n",
       "      <td>52</td>\n",
       "      <td>9</td>\n",
       "      <td>benzinga.com</td>\n",
       "      <td>2011-06-21</td>\n",
       "      <td>20</td>\n",
       "      <td>Tuesday</td>\n",
       "      <td>False</td>\n",
       "    </tr>\n",
       "    <tr>\n",
       "      <th>1407325</th>\n",
       "      <td>1413846</td>\n",
       "      <td>UPDATE: Oppenheimer Color on China Zenix Auto ...</td>\n",
       "      <td>https://www.benzinga.com/analyst-ratings/analy...</td>\n",
       "      <td>BenzingaStaffL</td>\n",
       "      <td>2011-06-21 00:00:00</td>\n",
       "      <td>ZX</td>\n",
       "      <td>2011-06-21</td>\n",
       "      <td>update oppenheimer color china zenix auto init...</td>\n",
       "      <td>56</td>\n",
       "      <td>9</td>\n",
       "      <td>benzinga.com</td>\n",
       "      <td>2011-06-20</td>\n",
       "      <td>20</td>\n",
       "      <td>Monday</td>\n",
       "      <td>False</td>\n",
       "    </tr>\n",
       "    <tr>\n",
       "      <th>1407326</th>\n",
       "      <td>1413847</td>\n",
       "      <td>Oppenheimer Initiates China Zenix At Outperfor...</td>\n",
       "      <td>https://www.benzinga.com/analyst-ratings/price...</td>\n",
       "      <td>Joe Young</td>\n",
       "      <td>2011-06-21 00:00:00</td>\n",
       "      <td>ZX</td>\n",
       "      <td>2011-06-21</td>\n",
       "      <td>oppenheimer initiates china zenix outperform 8 pt</td>\n",
       "      <td>54</td>\n",
       "      <td>10</td>\n",
       "      <td>benzinga.com</td>\n",
       "      <td>2011-06-20</td>\n",
       "      <td>20</td>\n",
       "      <td>Monday</td>\n",
       "      <td>False</td>\n",
       "    </tr>\n",
       "    <tr>\n",
       "      <th>1407327</th>\n",
       "      <td>1413848</td>\n",
       "      <td>China Zenix Auto International Opens For Tradi...</td>\n",
       "      <td>https://www.benzinga.com/news/ipos/11/05/10789...</td>\n",
       "      <td>Allie Wickman</td>\n",
       "      <td>2011-05-12 00:00:00</td>\n",
       "      <td>ZX</td>\n",
       "      <td>2011-05-12</td>\n",
       "      <td>china zenix auto international opens trading 6...</td>\n",
       "      <td>81</td>\n",
       "      <td>17</td>\n",
       "      <td>benzinga.com</td>\n",
       "      <td>2011-05-11</td>\n",
       "      <td>20</td>\n",
       "      <td>Wednesday</td>\n",
       "      <td>False</td>\n",
       "    </tr>\n",
       "  </tbody>\n",
       "</table>\n",
       "<p>1407328 rows × 15 columns</p>\n",
       "</div>"
      ],
      "text/plain": [
       "         Unnamed: 0                                           headline  \\\n",
       "0                 0            Stocks That Hit 52-Week Highs On Friday   \n",
       "1                 1         Stocks That Hit 52-Week Highs On Wednesday   \n",
       "2                 2                      71 Biggest Movers From Friday   \n",
       "3                 3       46 Stocks Moving In Friday's Mid-Day Session   \n",
       "4                 4  B of A Securities Maintains Neutral on Agilent...   \n",
       "...             ...                                                ...   \n",
       "1407323     1413844             Top Narrow Based Indexes For August 29   \n",
       "1407324     1413845  Recap: Wednesday's Top Percentage Gainers and ...   \n",
       "1407325     1413846  UPDATE: Oppenheimer Color on China Zenix Auto ...   \n",
       "1407326     1413847  Oppenheimer Initiates China Zenix At Outperfor...   \n",
       "1407327     1413848  China Zenix Auto International Opens For Tradi...   \n",
       "\n",
       "                                                       url          publisher  \\\n",
       "0        https://www.benzinga.com/news/20/06/16190091/s...  Benzinga Insights   \n",
       "1        https://www.benzinga.com/news/20/06/16170189/s...  Benzinga Insights   \n",
       "2        https://www.benzinga.com/news/20/05/16103463/7...         Lisa Levin   \n",
       "3        https://www.benzinga.com/news/20/05/16095921/4...         Lisa Levin   \n",
       "4        https://www.benzinga.com/news/20/05/16095304/b...         Vick Meyer   \n",
       "...                                                    ...                ...   \n",
       "1407323  https://www.benzinga.com/news/11/08/1888782/to...      Monica Gerson   \n",
       "1407324  https://www.benzinga.com/news/earnings/11/06/1...       Benjamin Lee   \n",
       "1407325  https://www.benzinga.com/analyst-ratings/analy...     BenzingaStaffL   \n",
       "1407326  https://www.benzinga.com/analyst-ratings/price...          Joe Young   \n",
       "1407327  https://www.benzinga.com/news/ipos/11/05/10789...      Allie Wickman   \n",
       "\n",
       "                              date stock cleaned_date  \\\n",
       "0        2020-06-05 10:30:54-04:00     A   2020-06-05   \n",
       "1        2020-06-03 10:45:20-04:00     A   2020-06-03   \n",
       "2        2020-05-26 04:30:07-04:00     A   2020-05-26   \n",
       "3        2020-05-22 12:45:06-04:00     A   2020-05-22   \n",
       "4        2020-05-22 11:38:59-04:00     A   2020-05-22   \n",
       "...                            ...   ...          ...   \n",
       "1407323        2011-08-29 00:00:00    ZX   2011-08-29   \n",
       "1407324        2011-06-22 00:00:00    ZX   2011-06-22   \n",
       "1407325        2011-06-21 00:00:00    ZX   2011-06-21   \n",
       "1407326        2011-06-21 00:00:00    ZX   2011-06-21   \n",
       "1407327        2011-05-12 00:00:00    ZX   2011-05-12   \n",
       "\n",
       "                                          cleaned_headline  headline_length  \\\n",
       "0                           stocks hit 52week highs friday               39   \n",
       "1                        stocks hit 52week highs wednesday               42   \n",
       "2                                 71 biggest movers friday               29   \n",
       "3                  46 stocks moving fridays midday session               44   \n",
       "4        b securities maintains neutral agilent technol...               87   \n",
       "...                                                    ...              ...   \n",
       "1407323                 top narrow based indexes august 29               38   \n",
       "1407324     recap wednesdays top percentage gainers losers               52   \n",
       "1407325  update oppenheimer color china zenix auto init...               56   \n",
       "1407326  oppenheimer initiates china zenix outperform 8 pt               54   \n",
       "1407327  china zenix auto international opens trading 6...               81   \n",
       "\n",
       "         word_count publisher_domain   date_only  hour day_of_week  is_weekend  \n",
       "0                 7     benzinga.com  2020-06-04    20    Thursday       False  \n",
       "1                 7     benzinga.com  2020-06-02    20     Tuesday       False  \n",
       "2                 5     benzinga.com  2020-05-25    20      Monday       False  \n",
       "3                 8     benzinga.com  2020-05-21    20    Thursday       False  \n",
       "4                16     benzinga.com  2020-05-21    20    Thursday       False  \n",
       "...             ...              ...         ...   ...         ...         ...  \n",
       "1407323           7     benzinga.com  2011-08-28    20      Sunday        True  \n",
       "1407324           9     benzinga.com  2011-06-21    20     Tuesday       False  \n",
       "1407325           9     benzinga.com  2011-06-20    20      Monday       False  \n",
       "1407326          10     benzinga.com  2011-06-20    20      Monday       False  \n",
       "1407327          17     benzinga.com  2011-05-11    20   Wednesday       False  \n",
       "\n",
       "[1407328 rows x 15 columns]"
      ]
     },
     "execution_count": 78,
     "metadata": {},
     "output_type": "execute_result"
    }
   ],
   "source": [
    "df"
   ]
  },
  {
   "cell_type": "markdown",
   "id": "8d932622",
   "metadata": {},
   "source": [
    "### 🔍 Bullish / Bearish Keyword Matching – Directional Signal Tagging\n",
    "\n",
    "The first stage of the sentiment pipeline leverages curated lexicons of financial **bullish** and **bearish** keywords to flag directional sentiment directly from headlines.\n",
    "\n",
    "#### ⚙️ How It Works:\n",
    "- `bullish_flag` is set to `True` if the headline contains phrases like **\"price target raised\"**, **\"beats expectations\"**, or **\"buyback\"**.\n",
    "- `bearish_flag` is set to `True` if it includes terms such as **\"earnings miss\"**, **\"downgrade\"**, or **\"guidance cut\"**.\n",
    "- Matching is **tokenized**, **fuzzily scored**, and **case-normalized** using the `KeywordSentimentAnalyzer` engine.\n",
    "\n",
    "#### 🧠 Why It Matters:\n",
    "This step provides a **lightweight, interpretable directional signal** that precedes more nuanced sentiment scoring (e.g., VADER or ensemble models).  \n",
    "It also helps flag **mixed sentiment cases** when both flags are triggered in the same headline.\n",
    "\n",
    "#### ✅ Outputs:\n",
    "- `bullish_flag` → `True` if bullish language is detected  \n",
    "- `bearish_flag` → `True` if bearish language is detected  \n",
    "- Diagnostic logs showing keyword hit counts and distribution\n"
   ]
  },
  {
   "cell_type": "code",
   "execution_count": 79,
   "id": "58e850fa",
   "metadata": {},
   "outputs": [
    {
     "name": "stdout",
     "output_type": "stream",
     "text": [
      "✅ 'bullish_flag' column added with 835,572 matches out of 1,407,328 rows.\n",
      "✅ Bullish keyword flagging succeeded.\n",
      "✅ 'bearish_flag' column added with 796,818 matches out of 1,407,328 rows.\n",
      "✅ Bearish keyword flagging succeeded.\n",
      "✅ KeywordSentimentAnalyzer instance for VADER created.\n",
      "✅ VADER sentiment labels assigned: {'neutral': 738822, 'bullish': 448149, 'bearish': 220357}\n",
      "✅ VADER sentiment analysis completed.\n",
      "✅ EnsembleSentimentAnalyzer instance created.\n",
      "✅ Ensemble sentiment assigned: {'neutral': 694158, 'bullish': 504216, 'bearish': 208954}\n",
      "✅ Ensemble sentiment analysis completed.\n"
     ]
    }
   ],
   "source": [
    "# ------------------------------------------------------------------------------\n",
    "# 🔍 Full Sentiment Pipeline – Bullish/Bearish Flags + VADER + Ensemble Scoring\n",
    "# ------------------------------------------------------------------------------\n",
    "\n",
    "from src.text_keywords import (\n",
    "    flag_bullish,\n",
    "    flag_bearish,\n",
    "    KeywordSentimentAnalyzer,\n",
    "    EnsembleSentimentAnalyzer,\n",
    ")\n",
    "\n",
    "try:\n",
    "    # Step 1: Bullish keyword flagging on cleaned headlines\n",
    "    try:\n",
    "        df = flag_bullish(df, column=\"cleaned_headline\")\n",
    "        print(\"✅ Bullish keyword flagging succeeded.\")\n",
    "    except Exception as e:\n",
    "        raise RuntimeError(f\"Bullish keyword flagging failed: {e}\")\n",
    "\n",
    "    # Step 2: Bearish keyword flagging on cleaned headlines\n",
    "    try:\n",
    "        df = flag_bearish(df, column=\"cleaned_headline\")\n",
    "        print(\"✅ Bearish keyword flagging succeeded.\")\n",
    "    except Exception as e:\n",
    "        raise RuntimeError(f\"Bearish keyword flagging failed: {e}\")\n",
    "\n",
    "    # Step 3: Initialize KeywordSentimentAnalyzer instance for VADER sentiment (no keywords needed)\n",
    "    try:\n",
    "        vader_analyzer = KeywordSentimentAnalyzer(\n",
    "            keywords=[],  # Empty list indicates VADER-only usage\n",
    "            text_col=\"cleaned_headline\",\n",
    "            verbose=True,\n",
    "        )\n",
    "        print(\"✅ KeywordSentimentAnalyzer instance for VADER created.\")\n",
    "    except Exception as e:\n",
    "        raise RuntimeError(\n",
    "            f\"Failed to initialize KeywordSentimentAnalyzer for VADER: {e}\"\n",
    "        )\n",
    "\n",
    "    # Step 4: Compute VADER sentiment scores and assign labels\n",
    "    try:\n",
    "        df = vader_analyzer.run_vader_sentiment(df)\n",
    "        print(\"✅ VADER sentiment analysis completed.\")\n",
    "    except Exception as e:\n",
    "        raise RuntimeError(f\"VADER sentiment analysis failed: {e}\")\n",
    "\n",
    "    # Step 5: Initialize ensemble sentiment analyzer\n",
    "    try:\n",
    "        ensemble_analyzer = EnsembleSentimentAnalyzer(verbose=True)\n",
    "        print(\"✅ EnsembleSentimentAnalyzer instance created.\")\n",
    "    except Exception as e:\n",
    "        raise RuntimeError(f\"Failed to initialize EnsembleSentimentAnalyzer: {e}\")\n",
    "\n",
    "    # Step 6: Compute ensemble sentiment labels and confidence scores\n",
    "    try:\n",
    "        df = ensemble_analyzer.run(df)\n",
    "        print(\"✅ Ensemble sentiment analysis completed.\")\n",
    "    except Exception as e:\n",
    "        raise RuntimeError(f\"Ensemble sentiment analysis failed: {e}\")\n",
    "\n",
    "except Exception as e:\n",
    "    print(f\"❌ Full sentiment pipeline failed: {e}\")"
   ]
  },
  {
   "cell_type": "markdown",
   "id": "0a8848f6",
   "metadata": {},
   "source": [
    "### 🔍 Full Event Extraction Pipeline – Named Entities + Event Phrases + REBEL (Sampled) + Timeline\n",
    "\n",
    "This pipeline identifies significant financial events from cleaned news headlines using both rule-based and transformer-based methods. It combines classical NLP with a sampled REBEL pass for scalable, interpretable, and structured event extraction.\n",
    "\n",
    "---\n",
    "\n",
    "#### 🧱 Core Components\n",
    "- **`EventExtractor`**: A modular spaCy-based extractor that:\n",
    "  - Identifies named entities (ORG, GPE, MONEY, DATE, etc.)\n",
    "  - Extracts noun phrases and financial event-related terms\n",
    "  - Computes and visualizes frequency of top event phrases\n",
    "  - Integrates REBEL results with fallback phrase-based tagging\n",
    "- **`EventExtractorREBEL`**: Applies the `Babelscape/rebel-large` model to ~1,000 sampled headlines for deep relation extraction in `(subject, relation, object)` format.\n",
    "- **`EventTimelineAnalyzer`**: Visualizes temporal surges in event mentions using `cleaned_date`.\n",
    "\n",
    "---\n",
    "\n",
    "#### ⚙️ Pipeline Steps\n",
    "1. **Initialize** `EventExtractor` on the `cleaned_headline` column.\n",
    "2. **Extract:**\n",
    "   - Named entities → `entity_df`\n",
    "   - Financial noun phrases → `noun_df`\n",
    "3. **Run Combined Event Extraction:**\n",
    "   - REBEL triplets are extracted from a small sample (`sample_size=1000`)\n",
    "   - All other rows are tagged using phrase heuristics (fallback)\n",
    "   - Combined result → `combined_events_df`\n",
    "4. **Visualize:**\n",
    "   - Top N fallback event phrases by frequency\n",
    "   - (Optional) Timeline of events using `cleaned_date`\n",
    "5. **Output structured REBEL triplets** → `triplet_df` (tagged with `source = \"rebel\"`)\n",
    "\n",
    "---\n",
    "\n",
    "#### ✅ Outputs\n",
    "- `entity_df` → Named entities with entity labels  \n",
    "- `noun_df` → Multi-word noun phrases (≥ 2 words)  \n",
    "- `combined_events_df` → Unified event dataset (REBEL triplets + fallback phrases)  \n",
    "- `freq_df` → Frequency of financial event phrases (from fallback)  \n",
    "- `triplet_df` → Sampled REBEL triplets (subject, relation, object)  \n",
    "- 📈 Timeline chart of event volume (if date available)\n",
    "\n",
    "---\n",
    "\n",
    "This dual-layered architecture ensures that:  \n",
    "- You **don’t pay the compute price** of REBEL for all 1.4M rows  \n",
    "- But still gain **high-quality, structured examples** of event triplets  \n",
    "- While scaling a **fallback-aware tagging system** to the full dataset\n"
   ]
  },
  {
   "cell_type": "code",
   "execution_count": null,
   "id": "fa2576e3",
   "metadata": {},
   "outputs": [],
   "source": [
    "# ------------------------------------------------------------------------------------\n",
    "# ♻️ Reloading updated text_event_analysis module\n",
    "# ------------------------------------------------------------------------------------\n",
    "%load_ext autoreload\n",
    "%autoreload 2\n",
    "\n",
    "from src.text_event_analysis import (\n",
    "    EventExtractor,\n",
    "    EventTimelineAnalyzer,\n",
    "    EventExtractorREBEL,\n",
    ")\n"
   ]
  },
  {
   "cell_type": "code",
   "execution_count": 88,
   "id": "8a7a1b44",
   "metadata": {},
   "outputs": [
    {
     "name": "stderr",
     "output_type": "stream",
     "text": [
      "\n",
      "KeyboardInterrupt\n",
      "\n"
     ]
    }
   ],
   "source": [
    "# ------------------------------------------------------------------------------------\n",
    "# 🔍 Full Event Extraction Pipeline – NER + Phrase Extraction + Frequency + REBEL + Time\n",
    "# ------------------------------------------------------------------------------------\n",
    "\n",
    "try:\n",
    "    # Step 1: Initialize EventExtractor with cleaned headlines\n",
    "    try:\n",
    "        headlines = df[\"cleaned_headline\"].dropna().tolist()\n",
    "        event_extractor = EventExtractor(headlines, verbose=True)\n",
    "        print(\"✅ EventExtractor instance created.\")\n",
    "    except Exception as e:\n",
    "        raise RuntimeError(f\"Failed to initialize EventExtractor: {e}\")\n",
    "\n",
    "    # Step 2: Extract named entities\n",
    "    try:\n",
    "        entity_df = event_extractor.extract_named_entities()\n",
    "        print(\"✅ Named entity extraction completed.\")\n",
    "    except Exception as e:\n",
    "        raise RuntimeError(f\"Named entity extraction failed: {e}\")\n",
    "\n",
    "    # Step 3: Extract financial noun phrases\n",
    "    try:\n",
    "        noun_df = event_extractor.extract_noun_phrases()\n",
    "        print(\"✅ Noun phrase extraction completed.\")\n",
    "    except Exception as e:\n",
    "        raise RuntimeError(f\"Noun phrase extraction failed: {e}\")\n",
    "\n",
    "    # Step 4: Extract REBEL triplets from sample + fallback for rest\n",
    "    try:\n",
    "        rebel_model = EventExtractorREBEL(verbose=True)\n",
    "        combined_events_df = event_extractor.extract_combined_events(\n",
    "            rebel_model, sample_size=10\n",
    "        )\n",
    "        print(\"✅ Combined REBEL + fallback event extraction completed.\")\n",
    "    except Exception as e:\n",
    "        raise RuntimeError(f\"Combined event extraction failed: {e}\")\n",
    "\n",
    "    # Step 5: Compute frequency from fallback only (optional diagnostic)\n",
    "    try:\n",
    "        freq_df = event_extractor.compute_event_frequencies()\n",
    "        print(\"✅ Event frequency analysis completed.\")\n",
    "    except Exception as e:\n",
    "        raise RuntimeError(f\"Event frequency analysis failed: {e}\")\n",
    "\n",
    "    # Step 6: Optional – Visualize top N fallback events\n",
    "    try:\n",
    "        event_extractor.visualize_top_events(top_n=15)\n",
    "    except Exception as e:\n",
    "        print(f\"⚠️ Event visualization failed: {e}\")\n",
    "\n",
    "    # Step 7: Optional – Run timeline analyzer if 'cleaned_date' is available\n",
    "    try:\n",
    "        if \"cleaned_date\" in df.columns:\n",
    "            combined_events_df[\"cleaned_date\"] = df.loc[\n",
    "                combined_events_df.index, \"cleaned_date\"\n",
    "            ]\n",
    "            timeline_analyzer = EventTimelineAnalyzer(combined_events_df, verbose=True)\n",
    "            timeline_analyzer.plot_event_timeline()\n",
    "            print(\"✅ Timeline analysis and visualization completed.\")\n",
    "        else:\n",
    "            print(\"⚠️ 'cleaned_date' column not found. Skipping timeline analysis.\")\n",
    "    except Exception as e:\n",
    "        raise RuntimeError(f\"Event timeline analysis failed: {e}\")\n",
    "\n",
    "except Exception as e:\n",
    "    print(f\"❌ Full event extraction pipeline failed: {e}\")"
   ]
  },
  {
   "cell_type": "markdown",
   "id": "f93a11ed",
   "metadata": {},
   "source": [
    "## 💹 Stock-Level Headline & Sentiment Diagnostics\n",
    "\n",
    "Performs end-to-end exploratory diagnostics on stock-specific news coverage.  \n",
    "This pipeline enables stock-level aggregation, visualizes headline frequency, and tracks sentiment volatility over time.\n",
    "\n",
    "### What this pipeline does:\n",
    "- **Summarizes** the number of headlines per stock to measure media exposure.\n",
    "- **Computes** average sentiment score per stock (already precomputed upstream).\n",
    "- **Merges** event labels (if available) for enriched stock-event analysis.\n",
    "- **Visualizes** top stocks by volume and sentiment to identify news leaders and laggards.\n",
    "- **Tracks** sentiment trends for selected tickers.\n",
    "- **Detects** headline spikes and volatile sentiment windows across the portfolio.\n",
    "- **Plots** a heatmap of rolling sentiment volatility across all stocks and dates.\n",
    "\n",
    "This module is useful for:\n",
    "- Identifying sentiment-driven momentum candidates  \n",
    "- Diagnosing disproportionate media focus  \n",
    "- Surfacing abnormal volatility patterns in financial narratives\n"
   ]
  },
  {
   "cell_type": "code",
   "execution_count": 82,
   "id": "5687099c",
   "metadata": {},
   "outputs": [],
   "source": [
    "# 🔁 Re-import to reload updated stock EDA module\n",
    "import importlib\n",
    "import src.text_stock_eda as text_stock_eda\n",
    "\n",
    "importlib.reload(text_stock_eda)\n",
    "\n",
    "from src.text_stock_eda import (\n",
    "    StockHeadlineProfiler,\n",
    "    StockVolatilityAnalyzer,\n",
    ")"
   ]
  },
  {
   "cell_type": "code",
   "execution_count": 83,
   "id": "dadbf596",
   "metadata": {},
   "outputs": [
    {
     "name": "stdout",
     "output_type": "stream",
     "text": [
      "✅ StockHeadlineProfiler initialized with 1407328 rows.\n",
      "✅ StockHeadlineProfiler instance created.\n",
      "✅ Headline volume computation completed.\n",
      "✅ Sentiment distribution computation completed.\n",
      "⚠️ Event data not found in scope. Skipping event merge.\n"
     ]
    },
    {
     "name": "stderr",
     "output_type": "stream",
     "text": [
      "c:\\Users\\admin\\Documents\\GIT Repositories\\b5w1-stock-market-challenge\\src\\text_stock_eda.py:114: FutureWarning: \n",
      "\n",
      "Passing `palette` without assigning `hue` is deprecated and will be removed in v0.14.0. Assign the `y` variable to `hue` and set `legend=False` for the same effect.\n",
      "\n",
      "  sns.barplot(\n"
     ]
    },
    {
     "data": {
      "image/png": "[encoded data removed]",
      "text/plain": [
       "<Figure size 1000x500 with 1 Axes>"
      ]
     },
     "metadata": {},
     "output_type": "display_data"
    },
    {
     "data": {
      "image/png": "[encoded data removed]",
      "text/plain": [
       "<Figure size 640x480 with 1 Axes>"
      ]
     },
     "metadata": {},
     "output_type": "display_data"
    },
    {
     "data": {
      "image/png": "[encoded data removed]",
      "text/plain": [
       "<Figure size 640x480 with 1 Axes>"
      ]
     },
     "metadata": {},
     "output_type": "display_data"
    },
    {
     "name": "stdout",
     "output_type": "stream",
     "text": [
      "✅ StockVolatilityAnalyzer initialized with 1407328 rows.\n",
      "✅ StockVolatilityAnalyzer instance created.\n"
     ]
    },
    {
     "data": {
      "image/png": "[encoded data removed]",
      "text/plain": [
       "<Figure size 1000x400 with 1 Axes>"
      ]
     },
     "metadata": {},
     "output_type": "display_data"
    },
    {
     "data": {
      "image/png": "[encoded data removed]",
      "text/plain": [
       "<Figure size 1000x400 with 1 Axes>"
      ]
     },
     "metadata": {},
     "output_type": "display_data"
    }
   ],
   "source": [
    "# ------------------------------------------------------------------------------------------\n",
    "# 📈 Full Stock-Level Diagnostic Pipeline – Sentiment + Event Merge + Volume + Volatility\n",
    "# ------------------------------------------------------------------------------------------\n",
    "\n",
    "from src.text_stock_eda import (\n",
    "    StockHeadlineProfiler,\n",
    "    StockVolatilityAnalyzer,\n",
    ")\n",
    "\n",
    "try:\n",
    "    # Step 1: Initialize stock-level headline profiler\n",
    "    try:\n",
    "        profiler = StockHeadlineProfiler(df, verbose=True)\n",
    "        print(\"✅ StockHeadlineProfiler instance created.\")\n",
    "    except Exception as e:\n",
    "        raise RuntimeError(f\"Failed to initialize StockHeadlineProfiler: {e}\")\n",
    "\n",
    "    # Step 2: Get headline volume per stock\n",
    "    try:\n",
    "        volume_df = profiler.get_headline_volume()\n",
    "        print(\"✅ Headline volume computation completed.\")\n",
    "    except Exception as e:\n",
    "        raise RuntimeError(f\"Headline volume computation failed: {e}\")\n",
    "\n",
    "    # Step 3: Compute sentiment distribution per stock\n",
    "    try:\n",
    "        sentiment_df = profiler.get_sentiment_distribution()\n",
    "        print(\"✅ Sentiment distribution computation completed.\")\n",
    "    except Exception as e:\n",
    "        raise RuntimeError(f\"Sentiment distribution computation failed: {e}\")\n",
    "\n",
    "    # Step 4: Optional – Merge with event data if available\n",
    "    try:\n",
    "        if \"event_phrase_df\" in locals():\n",
    "            merged_df = profiler.join_with_events(event_phrase_df)\n",
    "            print(\"✅ Merged with event data.\")\n",
    "        else:\n",
    "            print(\"⚠️ Event data not found in scope. Skipping event merge.\")\n",
    "    except Exception as e:\n",
    "        raise RuntimeError(f\"Event merge failed: {e}\")\n",
    "\n",
    "    # Step 5: Optional – Visualize top N stocks by volume\n",
    "    try:\n",
    "        profiler.plot_top_stocks_by_volume(n=10)\n",
    "    except Exception as e:\n",
    "        print(f\"⚠️ Volume visualization failed: {e}\")\n",
    "\n",
    "    # Step 6: Optional – Visualize top N stocks by sentiment share\n",
    "    try:\n",
    "        profiler.plot_sentiment_share_by_stock(n=10)\n",
    "    except Exception as e:\n",
    "        print(f\"⚠️ Sentiment share visualization failed: {e}\")\n",
    "\n",
    "    # Step 7: Optional – Plot sentiment distribution for a selected stock\n",
    "    try:\n",
    "        profiler.plot_sentiment_distribution(stock=\"AAPL\")  # 🔁 Change ticker as needed\n",
    "    except Exception as e:\n",
    "        print(f\"⚠️ Sentiment distribution plot failed: {e}\")\n",
    "\n",
    "    # Step 8: Initialize volatility analyzer\n",
    "    try:\n",
    "        volatility_analyzer = StockVolatilityAnalyzer(df, verbose=True)\n",
    "        print(\"✅ StockVolatilityAnalyzer instance created.\")\n",
    "    except Exception as e:\n",
    "        raise RuntimeError(f\"Failed to initialize StockVolatilityAnalyzer: {e}\")\n",
    "\n",
    "    # Step 9: Plot volume spike timeline for a stock\n",
    "    try:\n",
    "        volatility_analyzer.plot_volume_spikes(\n",
    "            stock=\"AAPL\"\n",
    "        )  # 🔁 Change ticker as needed\n",
    "    except Exception as e:\n",
    "        print(f\"⚠️ Volume spike plot failed: {e}\")\n",
    "\n",
    "    # Step 10: Optional – Plot sentiment flips over time\n",
    "    try:\n",
    "        volatility_analyzer.plot_sentiment_flips(\n",
    "            stock=\"AAPL\"\n",
    "        )  # 🔁 Change ticker as needed\n",
    "    except Exception as e:\n",
    "        print(f\"⚠️ Sentiment flip timeline failed: {e}\")\n",
    "\n",
    "except Exception as e:\n",
    "    print(f\"❌ Full stock-level pipeline failed: {e}\")"
   ]
  },
  {
   "cell_type": "code",
   "execution_count": 84,
   "id": "6c0b498e",
   "metadata": {},
   "outputs": [
    {
     "name": "stdout",
     "output_type": "stream",
     "text": [
      "✅ Exported enriched dataset to: data/exports\\news_sentiment_enriched_20250601_2017.csv\n"
     ]
    }
   ],
   "source": [
    "# ------------------------------------------------------------------------------\n",
    "# 💾 Export Final Enriched Dataset for Task 2\n",
    "# ------------------------------------------------------------------------------\n",
    "from datetime import datetime\n",
    "\n",
    "# Define output directory and filename with timestamp\n",
    "output_dir = \"data/exports\"\n",
    "os.makedirs(output_dir, exist_ok=True)\n",
    "\n",
    "timestamp = datetime.now().strftime(\"%Y%m%d_%H%M\")\n",
    "filename = f\"news_sentiment_enriched_{timestamp}.csv\"\n",
    "output_path = os.path.join(output_dir, filename)\n",
    "\n",
    "try:\n",
    "    # Export the enriched DataFrame\n",
    "    df.to_csv(output_path, index=False)\n",
    "    print(f\"✅ Exported enriched dataset to: {output_path}\")\n",
    "except Exception as e:\n",
    "    print(f\"❌ Failed to export enriched dataset: {e}\")"
   ]
  },
  {
   "cell_type": "code",
   "execution_count": null,
   "id": "c50a4438",
   "metadata": {},
   "outputs": [],
   "source": [
    "df"
   ]
  }
 ],
 "metadata": {
  "kernelspec": {
   "display_name": "stock-market-challenge",
   "language": "python",
   "name": "python3"
  },
  "language_info": {
   "codemirror_mode": {
    "name": "ipython",
    "version": 3
   },
   "file_extension": ".py",
   "mimetype": "text/x-python",
   "name": "python",
   "nbconvert_exporter": "python",
   "pygments_lexer": "ipython3",
   "version": "3.12.0"
  }
 },
 "nbformat": 4,
 "nbformat_minor": 5
}
